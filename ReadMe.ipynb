{
 "cells": [
  {
   "cell_type": "code",
   "execution_count": 1,
   "id": "a9632b77",
   "metadata": {},
   "outputs": [],
   "source": [
    "import pandas as pd\n",
    "import numpy as np\n",
    "from getMails import Parser\n",
    "from collections import Counter"
   ]
  },
  {
   "cell_type": "markdown",
   "id": "5692fb65",
   "metadata": {},
   "source": [
    "# Sur un exemple"
   ]
  },
  {
   "cell_type": "code",
   "execution_count": 2,
   "id": "68a8cd8a",
   "metadata": {
    "scrolled": true
   },
   "outputs": [
    {
     "name": "stdout",
     "output_type": "stream",
     "text": [
      "Exemple de structure de mail :\n"
     ]
    },
    {
     "data": {
      "text/plain": [
       "{'attached_files': '2',\n",
       " 'demande_de_support': 'Décibel - CR du dernier comité métier.txt',\n",
       " 'sender': 'courtais yohan',\n",
       " 'date': 'jeudi 21 octobre 2021 17:14',\n",
       " 'rec': {'brugeaud alain',\n",
       "  'corron franck',\n",
       "  'dta - equipe outils décisionnels',\n",
       "  'questel erwan',\n",
       "  'référents decibel'},\n",
       " 'object': 'décibel - cr du dernier comité métier',\n",
       " 'text': ' bonjour, vous trouverez en pj le cr du comité métier décibel d’octobre. en pj également, le suivi support décibel à fin septembre, présenté lors du comité. bonne fin de journée,'}"
      ]
     },
     "execution_count": 2,
     "metadata": {},
     "output_type": "execute_result"
    }
   ],
   "source": [
    "path = 'mails/'\n",
    "list_of_mails = Parser(path)\n",
    "\n",
    "print(\"Exemple de structure de mail :\")\n",
    "mail_exemple=list_of_mails[1]\n",
    "dict(mail_exemple)"
   ]
  },
  {
   "cell_type": "markdown",
   "id": "d2480a17",
   "metadata": {},
   "source": [
    "# Mail -> Texte (Parser) -> Liste de mots"
   ]
  },
  {
   "cell_type": "code",
   "execution_count": 3,
   "id": "61e07c12",
   "metadata": {},
   "outputs": [
    {
     "name": "stdout",
     "output_type": "stream",
     "text": [
      "['décibel', '-', 'cr', 'du', 'dernier', 'comité', 'métier', 'bonjour,', 'vous', 'trouverez', 'en', 'pj', 'le', 'cr', 'du', 'comité', 'métier', 'décibel', 'd’octobre', '', 'en', 'pj', 'également,', 'le', 'suivi', 'support', 'décibel', 'à', 'fin', 'septembre,', 'présenté', 'lors', 'du', 'comité', '', 'bonne', 'fin', 'de', 'journée,']\n"
     ]
    }
   ],
   "source": [
    "text = (mail_exemple['object'] + mail_exemple['text']).replace('.',' ').split(' ')\n",
    "print(text)"
   ]
  },
  {
   "cell_type": "markdown",
   "id": "8dc0ed1d",
   "metadata": {},
   "source": [
    "# Liste de mots -> Comptage des mots"
   ]
  },
  {
   "cell_type": "code",
   "execution_count": 4,
   "id": "9937b7cf",
   "metadata": {},
   "outputs": [
    {
     "name": "stdout",
     "output_type": "stream",
     "text": [
      "{'décibel': 3, '-': 1, 'cr': 2, 'du': 3, 'dernier': 1, 'comité': 3, 'métier': 2, 'bonjour,': 1, 'vous': 1, 'trouverez': 1, 'en': 2, 'pj': 2, 'le': 2, 'd’octobre': 1, '': 2, 'également,': 1, 'suivi': 1, 'support': 1, 'à': 1, 'fin': 2, 'septembre,': 1, 'présenté': 1, 'lors': 1, 'bonne': 1, 'de': 1, 'journée,': 1}\n"
     ]
    }
   ],
   "source": [
    "lem_text = dict(Counter(text)) #à remplacer par la fonction lemmatization\n",
    "print(lem_text)"
   ]
  },
  {
   "cell_type": "markdown",
   "id": "b2be9e01",
   "metadata": {},
   "source": [
    "# Comptage des mots -> DataFrame"
   ]
  },
  {
   "cell_type": "code",
   "execution_count": 5,
   "id": "a6eda292",
   "metadata": {},
   "outputs": [
    {
     "data": {
      "text/html": [
       "<div>\n",
       "<style scoped>\n",
       "    .dataframe tbody tr th:only-of-type {\n",
       "        vertical-align: middle;\n",
       "    }\n",
       "\n",
       "    .dataframe tbody tr th {\n",
       "        vertical-align: top;\n",
       "    }\n",
       "\n",
       "    .dataframe thead th {\n",
       "        text-align: right;\n",
       "    }\n",
       "</style>\n",
       "<table border=\"1\" class=\"dataframe\">\n",
       "  <thead>\n",
       "    <tr style=\"text-align: right;\">\n",
       "      <th></th>\n",
       "      <th>décibel</th>\n",
       "      <th>cr</th>\n",
       "      <th>du</th>\n",
       "      <th>dernier</th>\n",
       "      <th>comité</th>\n",
       "      <th>métier</th>\n",
       "      <th>bonjour,</th>\n",
       "      <th>vous</th>\n",
       "      <th>trouverez</th>\n",
       "      <th>en</th>\n",
       "      <th>...</th>\n",
       "      <th>support</th>\n",
       "      <th>fin</th>\n",
       "      <th>septembre,</th>\n",
       "      <th>présenté</th>\n",
       "      <th>lors</th>\n",
       "      <th>bonne</th>\n",
       "      <th>de</th>\n",
       "      <th>journée,</th>\n",
       "      <th>attached_files</th>\n",
       "      <th>demande_de_support</th>\n",
       "    </tr>\n",
       "  </thead>\n",
       "  <tbody>\n",
       "    <tr>\n",
       "      <th>0</th>\n",
       "      <td>3</td>\n",
       "      <td>2</td>\n",
       "      <td>3</td>\n",
       "      <td>1</td>\n",
       "      <td>3</td>\n",
       "      <td>2</td>\n",
       "      <td>1</td>\n",
       "      <td>1</td>\n",
       "      <td>1</td>\n",
       "      <td>2</td>\n",
       "      <td>...</td>\n",
       "      <td>1</td>\n",
       "      <td>2</td>\n",
       "      <td>1</td>\n",
       "      <td>1</td>\n",
       "      <td>1</td>\n",
       "      <td>1</td>\n",
       "      <td>1</td>\n",
       "      <td>1</td>\n",
       "      <td>2</td>\n",
       "      <td>Décibel - CR du dernier comité métier.txt</td>\n",
       "    </tr>\n",
       "  </tbody>\n",
       "</table>\n",
       "<p>1 rows × 25 columns</p>\n",
       "</div>"
      ],
      "text/plain": [
       "   décibel  cr  du  dernier  comité  métier  bonjour,  vous  trouverez  en  \\\n",
       "0        3   2   3        1       3       2         1     1          1   2   \n",
       "\n",
       "   ...  support  fin  septembre,  présenté  lors  bonne  de  journée,  \\\n",
       "0  ...        1    2           1         1     1      1   1         1   \n",
       "\n",
       "   attached_files                         demande_de_support  \n",
       "0               2  Décibel - CR du dernier comité métier.txt  \n",
       "\n",
       "[1 rows x 25 columns]"
      ]
     },
     "execution_count": 5,
     "metadata": {},
     "output_type": "execute_result"
    }
   ],
   "source": [
    "data = lem_text\n",
    "data['attached_files'] = mail_exemple['attached_files']\n",
    "data['demande_de_support'] = mail_exemple['demande_de_support']\n",
    "data_list = {key:[val] for key,val in data.items() if len(key)>1}\n",
    "output_df = pd.DataFrame.from_dict(data_list)\n",
    "output_df"
   ]
  },
  {
   "cell_type": "markdown",
   "id": "a2a44450",
   "metadata": {},
   "source": [
    "# Implémentation"
   ]
  },
  {
   "cell_type": "code",
   "execution_count": 11,
   "id": "a993146c",
   "metadata": {},
   "outputs": [],
   "source": [
    "from preprocessing import ImportData"
   ]
  },
  {
   "cell_type": "code",
   "execution_count": 12,
   "id": "d0cc635b",
   "metadata": {},
   "outputs": [
    {
     "data": {
      "text/html": [
       "<div>\n",
       "<style scoped>\n",
       "    .dataframe tbody tr th:only-of-type {\n",
       "        vertical-align: middle;\n",
       "    }\n",
       "\n",
       "    .dataframe tbody tr th {\n",
       "        vertical-align: top;\n",
       "    }\n",
       "\n",
       "    .dataframe thead th {\n",
       "        text-align: right;\n",
       "    }\n",
       "</style>\n",
       "<table border=\"1\" class=\"dataframe\">\n",
       "  <thead>\n",
       "    <tr style=\"text-align: right;\">\n",
       "      <th></th>\n",
       "      <th>automatisation</th>\n",
       "      <th>suivi</th>\n",
       "      <th>des</th>\n",
       "      <th>demandes</th>\n",
       "      <th>jeu</th>\n",
       "      <th>de</th>\n",
       "      <th>données</th>\n",
       "      <th>nadège</th>\n",
       "      <th>pourrais-tu</th>\n",
       "      <th>nous</th>\n",
       "      <th>...</th>\n",
       "      <th>58</th>\n",
       "      <th>eobm008</th>\n",
       "      <th>64</th>\n",
       "      <th>eobm009</th>\n",
       "      <th>eobm014</th>\n",
       "      <th>95</th>\n",
       "      <th>eobm016</th>\n",
       "      <th>eobm017</th>\n",
       "      <th>45</th>\n",
       "      <th>eobm019</th>\n",
       "    </tr>\n",
       "  </thead>\n",
       "  <tbody>\n",
       "    <tr>\n",
       "      <th>0</th>\n",
       "      <td>1.0</td>\n",
       "      <td>1.0</td>\n",
       "      <td>1.0</td>\n",
       "      <td>2.0</td>\n",
       "      <td>2.0</td>\n",
       "      <td>2.0</td>\n",
       "      <td>2.0</td>\n",
       "      <td>1.0</td>\n",
       "      <td>1.0</td>\n",
       "      <td>1.0</td>\n",
       "      <td>...</td>\n",
       "      <td>0.0</td>\n",
       "      <td>0.0</td>\n",
       "      <td>0.0</td>\n",
       "      <td>0.0</td>\n",
       "      <td>0.0</td>\n",
       "      <td>0.0</td>\n",
       "      <td>0.0</td>\n",
       "      <td>0.0</td>\n",
       "      <td>0.0</td>\n",
       "      <td>0.0</td>\n",
       "    </tr>\n",
       "    <tr>\n",
       "      <th>1</th>\n",
       "      <td>0.0</td>\n",
       "      <td>1.0</td>\n",
       "      <td>0.0</td>\n",
       "      <td>0.0</td>\n",
       "      <td>0.0</td>\n",
       "      <td>1.0</td>\n",
       "      <td>0.0</td>\n",
       "      <td>0.0</td>\n",
       "      <td>0.0</td>\n",
       "      <td>0.0</td>\n",
       "      <td>...</td>\n",
       "      <td>0.0</td>\n",
       "      <td>0.0</td>\n",
       "      <td>0.0</td>\n",
       "      <td>0.0</td>\n",
       "      <td>0.0</td>\n",
       "      <td>0.0</td>\n",
       "      <td>0.0</td>\n",
       "      <td>0.0</td>\n",
       "      <td>0.0</td>\n",
       "      <td>0.0</td>\n",
       "    </tr>\n",
       "    <tr>\n",
       "      <th>2</th>\n",
       "      <td>0.0</td>\n",
       "      <td>0.0</td>\n",
       "      <td>1.0</td>\n",
       "      <td>0.0</td>\n",
       "      <td>0.0</td>\n",
       "      <td>1.0</td>\n",
       "      <td>0.0</td>\n",
       "      <td>0.0</td>\n",
       "      <td>0.0</td>\n",
       "      <td>0.0</td>\n",
       "      <td>...</td>\n",
       "      <td>0.0</td>\n",
       "      <td>0.0</td>\n",
       "      <td>0.0</td>\n",
       "      <td>0.0</td>\n",
       "      <td>0.0</td>\n",
       "      <td>0.0</td>\n",
       "      <td>0.0</td>\n",
       "      <td>0.0</td>\n",
       "      <td>0.0</td>\n",
       "      <td>0.0</td>\n",
       "    </tr>\n",
       "    <tr>\n",
       "      <th>3</th>\n",
       "      <td>0.0</td>\n",
       "      <td>0.0</td>\n",
       "      <td>4.0</td>\n",
       "      <td>0.0</td>\n",
       "      <td>0.0</td>\n",
       "      <td>3.0</td>\n",
       "      <td>0.0</td>\n",
       "      <td>0.0</td>\n",
       "      <td>0.0</td>\n",
       "      <td>0.0</td>\n",
       "      <td>...</td>\n",
       "      <td>0.0</td>\n",
       "      <td>0.0</td>\n",
       "      <td>0.0</td>\n",
       "      <td>0.0</td>\n",
       "      <td>0.0</td>\n",
       "      <td>0.0</td>\n",
       "      <td>0.0</td>\n",
       "      <td>0.0</td>\n",
       "      <td>0.0</td>\n",
       "      <td>0.0</td>\n",
       "    </tr>\n",
       "    <tr>\n",
       "      <th>4</th>\n",
       "      <td>0.0</td>\n",
       "      <td>0.0</td>\n",
       "      <td>0.0</td>\n",
       "      <td>0.0</td>\n",
       "      <td>0.0</td>\n",
       "      <td>0.0</td>\n",
       "      <td>0.0</td>\n",
       "      <td>0.0</td>\n",
       "      <td>0.0</td>\n",
       "      <td>0.0</td>\n",
       "      <td>...</td>\n",
       "      <td>0.0</td>\n",
       "      <td>0.0</td>\n",
       "      <td>0.0</td>\n",
       "      <td>0.0</td>\n",
       "      <td>0.0</td>\n",
       "      <td>0.0</td>\n",
       "      <td>0.0</td>\n",
       "      <td>0.0</td>\n",
       "      <td>0.0</td>\n",
       "      <td>0.0</td>\n",
       "    </tr>\n",
       "    <tr>\n",
       "      <th>5</th>\n",
       "      <td>0.0</td>\n",
       "      <td>0.0</td>\n",
       "      <td>1.0</td>\n",
       "      <td>0.0</td>\n",
       "      <td>0.0</td>\n",
       "      <td>7.0</td>\n",
       "      <td>0.0</td>\n",
       "      <td>0.0</td>\n",
       "      <td>0.0</td>\n",
       "      <td>0.0</td>\n",
       "      <td>...</td>\n",
       "      <td>1.0</td>\n",
       "      <td>1.0</td>\n",
       "      <td>1.0</td>\n",
       "      <td>1.0</td>\n",
       "      <td>1.0</td>\n",
       "      <td>1.0</td>\n",
       "      <td>1.0</td>\n",
       "      <td>1.0</td>\n",
       "      <td>1.0</td>\n",
       "      <td>1.0</td>\n",
       "    </tr>\n",
       "  </tbody>\n",
       "</table>\n",
       "<p>6 rows × 343 columns</p>\n",
       "</div>"
      ],
      "text/plain": [
       "   automatisation  suivi  des  demandes  jeu   de  données  nadège  \\\n",
       "0             1.0    1.0  1.0       2.0  2.0  2.0      2.0     1.0   \n",
       "1             0.0    1.0  0.0       0.0  0.0  1.0      0.0     0.0   \n",
       "2             0.0    0.0  1.0       0.0  0.0  1.0      0.0     0.0   \n",
       "3             0.0    0.0  4.0       0.0  0.0  3.0      0.0     0.0   \n",
       "4             0.0    0.0  0.0       0.0  0.0  0.0      0.0     0.0   \n",
       "5             0.0    0.0  1.0       0.0  0.0  7.0      0.0     0.0   \n",
       "\n",
       "   pourrais-tu  nous  ...   58  eobm008   64  eobm009  eobm014   95  eobm016  \\\n",
       "0          1.0   1.0  ...  0.0      0.0  0.0      0.0      0.0  0.0      0.0   \n",
       "1          0.0   0.0  ...  0.0      0.0  0.0      0.0      0.0  0.0      0.0   \n",
       "2          0.0   0.0  ...  0.0      0.0  0.0      0.0      0.0  0.0      0.0   \n",
       "3          0.0   0.0  ...  0.0      0.0  0.0      0.0      0.0  0.0      0.0   \n",
       "4          0.0   0.0  ...  0.0      0.0  0.0      0.0      0.0  0.0      0.0   \n",
       "5          0.0   0.0  ...  1.0      1.0  1.0      1.0      1.0  1.0      1.0   \n",
       "\n",
       "   eobm017   45  eobm019  \n",
       "0      0.0  0.0      0.0  \n",
       "1      0.0  0.0      0.0  \n",
       "2      0.0  0.0      0.0  \n",
       "3      0.0  0.0      0.0  \n",
       "4      0.0  0.0      0.0  \n",
       "5      1.0  1.0      1.0  \n",
       "\n",
       "[6 rows x 343 columns]"
      ]
     },
     "execution_count": 12,
     "metadata": {},
     "output_type": "execute_result"
    }
   ],
   "source": [
    "data = ImportData('mails')\n",
    "data"
   ]
  },
  {
   "cell_type": "code",
   "execution_count": 8,
   "id": "87fca50e",
   "metadata": {},
   "outputs": [
    {
     "data": {
      "text/plain": [
       "0    0\n",
       "1    0\n",
       "2    0\n",
       "3    0\n",
       "Name: demande_de_support, dtype: int64"
      ]
     },
     "execution_count": 8,
     "metadata": {},
     "output_type": "execute_result"
    }
   ],
   "source": [
    "train_data = data.iloc[:4,:]\n",
    "Xtrain = train_data.drop(columns=['demande_de_support'])\n",
    "ytrain = train_data['demande_de_support'];ytrain"
   ]
  },
  {
   "cell_type": "code",
   "execution_count": 9,
   "id": "b7dff0d2",
   "metadata": {},
   "outputs": [
    {
     "data": {
      "text/plain": [
       "4    0\n",
       "5    1\n",
       "Name: demande_de_support, dtype: int64"
      ]
     },
     "execution_count": 9,
     "metadata": {},
     "output_type": "execute_result"
    }
   ],
   "source": [
    "test_data = data.iloc[4:,:]\n",
    "Xtest = test_data.drop(columns=['demande_de_support'])\n",
    "ytest = test_data['demande_de_support'];ytest"
   ]
  },
  {
   "cell_type": "code",
   "execution_count": null,
   "id": "8dc7fbf9",
   "metadata": {},
   "outputs": [],
   "source": []
  },
  {
   "cell_type": "code",
   "execution_count": 15,
   "id": "b42213a8",
   "metadata": {},
   "outputs": [
    {
     "name": "stdout",
     "output_type": "stream",
     "text": [
      "[0 0]\n"
     ]
    },
    {
     "data": {
      "text/plain": [
       "0.5"
      ]
     },
     "execution_count": 15,
     "metadata": {},
     "output_type": "execute_result"
    }
   ],
   "source": [
    "from sklearn.ensemble import RandomForestClassifier\n",
    "\n",
    "RF = RandomForestClassifier(n_estimators=100, max_depth=2, random_state=0)\n",
    "RF.fit(Xtrain, ytrain)\n",
    "predict = RF.predict(Xtest)\n",
    "print(predict)\n",
    "round(RF.score(Xtest,ytest), 4)"
   ]
  },
  {
   "cell_type": "code",
   "execution_count": null,
   "id": "4cfba636",
   "metadata": {},
   "outputs": [],
   "source": []
  }
 ],
 "metadata": {
  "kernelspec": {
   "display_name": "Python 3",
   "language": "python",
   "name": "python3"
  },
  "language_info": {
   "codemirror_mode": {
    "name": "ipython",
    "version": 3
   },
   "file_extension": ".py",
   "mimetype": "text/x-python",
   "name": "python",
   "nbconvert_exporter": "python",
   "pygments_lexer": "ipython3",
   "version": "3.8.8"
  }
 },
 "nbformat": 4,
 "nbformat_minor": 5
}
