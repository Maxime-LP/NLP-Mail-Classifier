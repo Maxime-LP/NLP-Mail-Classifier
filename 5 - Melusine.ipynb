{
 "cells": [
  {
   "cell_type": "code",
   "execution_count": 2,
   "metadata": {},
   "outputs": [],
   "source": [
    "from melusine.nlp_tools.embedding import Embedding\n",
    "import pandas as pd\n",
    "from melusine.nlp_tools.phraser import Phraser, phraser_on_body\n",
    "from melusine.nlp_tools.tokenizer import Tokenizer\n",
    "from sklearn.pipeline import Pipeline\n",
    "from melusine.utils.transformer_scheduler import TransformerScheduler\n",
    "from melusine.models.neural_architectures import cnn_model, rnn_model, transformers_model, bert_model\n",
    "from melusine.models.train import NeuralModel\n",
    "from sklearn import metrics\n",
    "from sklearn.model_selection import train_test_split, ShuffleSplit\n",
    "import numpy as np\n",
    "import tqdm\n",
    "tqdm.pandas()"
   ]
  },
  {
   "cell_type": "code",
   "execution_count": 4,
   "metadata": {},
   "outputs": [
    {
     "data": {
      "text/html": [
       "<div>\n",
       "<style scoped>\n",
       "    .dataframe tbody tr th:only-of-type {\n",
       "        vertical-align: middle;\n",
       "    }\n",
       "\n",
       "    .dataframe tbody tr th {\n",
       "        vertical-align: top;\n",
       "    }\n",
       "\n",
       "    .dataframe thead th {\n",
       "        text-align: right;\n",
       "    }\n",
       "</style>\n",
       "<table border=\"1\" class=\"dataframe\">\n",
       "  <thead>\n",
       "    <tr style=\"text-align: right;\">\n",
       "      <th></th>\n",
       "      <th>text</th>\n",
       "      <th>label</th>\n",
       "    </tr>\n",
       "  </thead>\n",
       "  <tbody>\n",
       "    <tr>\n",
       "      <th>0</th>\n",
       "      <td>1ere relecture gt consommation yohan temps c c...</td>\n",
       "      <td>0</td>\n",
       "    </tr>\n",
       "    <tr>\n",
       "      <th>1</th>\n",
       "      <td>accepter accepter demande cliquez simplement b...</td>\n",
       "      <td>0</td>\n",
       "    </tr>\n",
       "    <tr>\n",
       "      <th>2</th>\n",
       "      <td>acce decibel bonjour pouvoir donner acces deci...</td>\n",
       "      <td>1</td>\n",
       "    </tr>\n",
       "    <tr>\n",
       "      <th>3</th>\n",
       "      <td>acces rec4 decibel sdw rec4 hm dm ad restituti...</td>\n",
       "      <td>1</td>\n",
       "    </tr>\n",
       "    <tr>\n",
       "      <th>4</th>\n",
       "      <td>acte indemnite hospitalier savoir c acte n fra...</td>\n",
       "      <td>1</td>\n",
       "    </tr>\n",
       "  </tbody>\n",
       "</table>\n",
       "</div>"
      ],
      "text/plain": [
       "                                                text  label\n",
       "0  1ere relecture gt consommation yohan temps c c...      0\n",
       "1  accepter accepter demande cliquez simplement b...      0\n",
       "2  acce decibel bonjour pouvoir donner acces deci...      1\n",
       "3  acces rec4 decibel sdw rec4 hm dm ad restituti...      1\n",
       "4  acte indemnite hospitalier savoir c acte n fra...      1"
      ]
     },
     "execution_count": 4,
     "metadata": {},
     "output_type": "execute_result"
    }
   ],
   "source": [
    "data = pd.read_pickle('data/mails_lemmatized.pkl')\n",
    "df_email = pd.DataFrame()\n",
    "df_email['text'] = [' '.join(words) for words in data]\n",
    "df_email['label'] = pd.read_pickle('data/mail_labels.pkl')\n",
    "df_email = df_email[df_email['label']!=2]\n",
    "df_email.head()"
   ]
  },
  {
   "cell_type": "code",
   "execution_count": 41,
   "metadata": {},
   "outputs": [],
   "source": [
    "shuffler = ShuffleSplit(n_splits=1,test_size=0.15)\n",
    "train_indexes, test_indexes = list(shuffler.split(df_email.index))[0]"
   ]
  },
  {
   "cell_type": "code",
   "execution_count": null,
   "metadata": {},
   "outputs": [],
   "source": [
    "def tokenize(row):\n",
    "    tokens = row.split(' ')\n",
    "    return tokens \n",
    "\n",
    "tknz = Tokenizer('text')\n",
    "df_email2 = tknz.fit_transform(df_email)"
   ]
  },
  {
   "cell_type": "code",
   "execution_count": 51,
   "metadata": {},
   "outputs": [],
   "source": [
    "df_train = df_email.iloc[train_indexes]\n",
    "df_test = df_email.iloc[test_indexes]"
   ]
  },
  {
   "cell_type": "code",
   "execution_count": 52,
   "metadata": {},
   "outputs": [],
   "source": [
    "embedding = Embedding(input_column='text', min_count=5)\n",
    "embedding.train(df_train)"
   ]
  },
  {
   "cell_type": "markdown",
   "metadata": {},
   "source": [
    "# CNN"
   ]
  },
  {
   "cell_type": "code",
   "execution_count": 64,
   "metadata": {},
   "outputs": [],
   "source": [
    "cnn_nn = NeuralModel(architecture_function=cnn_model,\n",
    "                       pretrained_embedding=embedding,\n",
    "                       text_input_column='text')"
   ]
  },
  {
   "cell_type": "code",
   "execution_count": 55,
   "metadata": {},
   "outputs": [
    {
     "name": "stderr",
     "output_type": "stream",
     "text": [
      "C:\\Users\\le_paumier-m\\Anaconda3\\lib\\site-packages\\melusine\\nlp_tools\\tokenizer.py:126: SettingWithCopyWarning: \n",
      "A value is trying to be set on a copy of a slice from a DataFrame.\n",
      "Try using .loc[row_indexer,col_indexer] = value instead\n",
      "\n",
      "See the caveats in the documentation: https://pandas.pydata.org/pandas-docs/stable/user_guide/indexing.html#returning-a-view-versus-a-copy\n",
      "  X[\"tokens\"] = apply_func(X, self.tokenize)\n",
      "C:\\Users\\le_paumier-m\\Anaconda3\\lib\\site-packages\\melusine\\nlp_tools\\tokenizer.py:127: SettingWithCopyWarning: \n",
      "A value is trying to be set on a copy of a slice from a DataFrame.\n",
      "Try using .loc[row_indexer,col_indexer] = value instead\n",
      "\n",
      "See the caveats in the documentation: https://pandas.pydata.org/pandas-docs/stable/user_guide/indexing.html#returning-a-view-versus-a-copy\n",
      "  X[\"tokens\"] = apply_func(X, lambda x: x[\"tokens\"][0])\n"
     ]
    },
    {
     "name": "stdout",
     "output_type": "stream",
     "text": [
      "Epoch 1/15\n",
      "1/1 [==============================] - 5s 5s/step - loss: 0.9173 - accuracy: 0.3930\n",
      "Epoch 2/15\n",
      "1/1 [==============================] - 4s 4s/step - loss: 0.4576 - accuracy: 0.8570\n",
      "Epoch 3/15\n",
      "1/1 [==============================] - 4s 4s/step - loss: 0.4950 - accuracy: 0.8581\n",
      "Epoch 4/15\n",
      "1/1 [==============================] - 4s 4s/step - loss: 0.4709 - accuracy: 0.8493\n",
      "Epoch 5/15\n",
      "1/1 [==============================] - 4s 4s/step - loss: 0.4574 - accuracy: 0.8328\n",
      "Epoch 6/15\n",
      "1/1 [==============================] - 4s 4s/step - loss: 0.4516 - accuracy: 0.8292\n",
      "Epoch 7/15\n",
      "1/1 [==============================] - 4s 4s/step - loss: 0.4220 - accuracy: 0.8526\n",
      "Epoch 8/15\n",
      "1/1 [==============================] - 4s 4s/step - loss: 0.4167 - accuracy: 0.8589\n",
      "Epoch 9/15\n",
      "1/1 [==============================] - 4s 4s/step - loss: 0.4124 - accuracy: 0.8607\n",
      "Epoch 10/15\n",
      "1/1 [==============================] - 4s 4s/step - loss: 0.3952 - accuracy: 0.8600\n",
      "Epoch 11/15\n",
      "1/1 [==============================] - 4s 4s/step - loss: 0.3926 - accuracy: 0.8596\n",
      "Epoch 12/15\n",
      "1/1 [==============================] - 4s 4s/step - loss: 0.3872 - accuracy: 0.8603\n",
      "Epoch 13/15\n",
      "1/1 [==============================] - 4s 4s/step - loss: 0.3850 - accuracy: 0.8596\n",
      "Epoch 14/15\n",
      "1/1 [==============================] - 4s 4s/step - loss: 0.3754 - accuracy: 0.8600\n",
      "Epoch 15/15\n",
      "1/1 [==============================] - 4s 4s/step - loss: 0.3803 - accuracy: 0.8600\n"
     ]
    }
   ],
   "source": [
    "cnn_nn.fit(df_test.drop('label', axis = 1), df_train.label)"
   ]
  },
  {
   "cell_type": "code",
   "execution_count": 60,
   "metadata": {},
   "outputs": [
    {
     "name": "stdout",
     "output_type": "stream",
     "text": [
      "[[409   0]\n",
      " [ 73   0]]\n",
      "0.15145228215767634\n"
     ]
    }
   ],
   "source": [
    "y_pred = cnn_nn.predict(df_test.drop('label', axis = 1))\n",
    "CM = metrics.confusion_matrix(df_test.label, y_pred)\n",
    "print(CM)\n",
    "FN = CM[1,0]\n",
    "print(FN/np.sum(CM))"
   ]
  },
  {
   "cell_type": "markdown",
   "metadata": {},
   "source": [
    "# RNN"
   ]
  },
  {
   "cell_type": "code",
   "execution_count": 68,
   "metadata": {},
   "outputs": [],
   "source": [
    "rnn_nn = NeuralModel(architecture_function=rnn_model,\n",
    "                       pretrained_embedding=embedding,\n",
    "                       text_input_column='text')"
   ]
  },
  {
   "cell_type": "code",
   "execution_count": 70,
   "metadata": {},
   "outputs": [
    {
     "name": "stdout",
     "output_type": "stream",
     "text": [
      "Epoch 1/15\n",
      "1/1 [==============================] - 12s 12s/step - loss: 0.5341 - accuracy: 0.8405\n",
      "Epoch 2/15\n",
      "1/1 [==============================] - 7s 7s/step - loss: 0.4068 - accuracy: 0.8600\n",
      "Epoch 3/15\n",
      "1/1 [==============================] - 7s 7s/step - loss: 0.4394 - accuracy: 0.8600\n",
      "Epoch 4/15\n",
      "1/1 [==============================] - 7s 7s/step - loss: 0.4325 - accuracy: 0.8600\n",
      "Epoch 5/15\n",
      "1/1 [==============================] - 7s 7s/step - loss: 0.4097 - accuracy: 0.8600\n",
      "Epoch 6/15\n",
      "1/1 [==============================] - 7s 7s/step - loss: 0.3960 - accuracy: 0.8600\n",
      "Epoch 7/15\n",
      "1/1 [==============================] - 8s 8s/step - loss: 0.3923 - accuracy: 0.8600\n",
      "Epoch 8/15\n",
      "1/1 [==============================] - 7s 7s/step - loss: 0.4020 - accuracy: 0.8600\n",
      "Epoch 9/15\n",
      "1/1 [==============================] - 7s 7s/step - loss: 0.3928 - accuracy: 0.8600\n",
      "Epoch 10/15\n",
      "1/1 [==============================] - 7s 7s/step - loss: 0.3829 - accuracy: 0.8600\n",
      "Epoch 11/15\n",
      "1/1 [==============================] - 6s 6s/step - loss: 0.3757 - accuracy: 0.8600\n",
      "Epoch 12/15\n",
      "1/1 [==============================] - 6s 6s/step - loss: 0.3667 - accuracy: 0.8600\n",
      "Epoch 13/15\n",
      "1/1 [==============================] - 6s 6s/step - loss: 0.3705 - accuracy: 0.8600\n",
      "Epoch 14/15\n",
      "1/1 [==============================] - 6s 6s/step - loss: 0.3602 - accuracy: 0.8600\n",
      "Epoch 15/15\n",
      "1/1 [==============================] - 6s 6s/step - loss: 0.3559 - accuracy: 0.8600\n"
     ]
    }
   ],
   "source": [
    "rnn_nn.fit(df_train.drop('label', axis = 1), df_train.label)"
   ]
  },
  {
   "cell_type": "code",
   "execution_count": 71,
   "metadata": {},
   "outputs": [
    {
     "name": "stdout",
     "output_type": "stream",
     "text": [
      "[[409   0]\n",
      " [ 73   0]]\n",
      "0.15145228215767634\n"
     ]
    }
   ],
   "source": [
    "y_pred = rnn_nn.predict(df_test.drop('label', axis = 1))\n",
    "CM = metrics.confusion_matrix(df_test.label, y_pred)\n",
    "print(CM)\n",
    "FN = CM[1,0]\n",
    "print(FN/np.sum(CM))"
   ]
  },
  {
   "cell_type": "markdown",
   "metadata": {},
   "source": [
    "# Transformer"
   ]
  },
  {
   "cell_type": "code",
   "execution_count": 72,
   "metadata": {},
   "outputs": [],
   "source": [
    "transf_nn = NeuralModel(architecture_function=transformers_model,\n",
    "                       pretrained_embedding=embedding,\n",
    "                       text_input_column='text')"
   ]
  },
  {
   "cell_type": "code",
   "execution_count": 73,
   "metadata": {},
   "outputs": [
    {
     "name": "stdout",
     "output_type": "stream",
     "text": [
      "Epoch 1/15\n",
      "1/1 [==============================] - 52s 52s/step - loss: 2.9108 - accuracy: 0.1653\n",
      "Epoch 2/15\n",
      "1/1 [==============================] - 40s 40s/step - loss: 0.8087 - accuracy: 0.8589\n",
      "Epoch 3/15\n",
      "1/1 [==============================] - 32s 32s/step - loss: 0.6094 - accuracy: 0.8581\n",
      "Epoch 4/15\n",
      "1/1 [==============================] - 30s 30s/step - loss: 0.4710 - accuracy: 0.8402\n",
      "Epoch 5/15\n",
      "1/1 [==============================] - 29s 29s/step - loss: 0.4773 - accuracy: 0.8167\n",
      "Epoch 6/15\n",
      "1/1 [==============================] - 32s 32s/step - loss: 0.4395 - accuracy: 0.8501\n",
      "Epoch 7/15\n",
      "1/1 [==============================] - 34s 34s/step - loss: 0.4464 - accuracy: 0.8570\n",
      "Epoch 8/15\n",
      "1/1 [==============================] - 30s 30s/step - loss: 0.4468 - accuracy: 0.8600\n",
      "Epoch 9/15\n",
      "1/1 [==============================] - 29s 29s/step - loss: 0.4368 - accuracy: 0.8592\n",
      "Epoch 10/15\n",
      "1/1 [==============================] - 34s 34s/step - loss: 0.4344 - accuracy: 0.8596\n",
      "Epoch 11/15\n",
      "1/1 [==============================] - 47s 47s/step - loss: 0.4232 - accuracy: 0.8574\n",
      "Epoch 12/15\n",
      "1/1 [==============================] - 39s 39s/step - loss: 0.4255 - accuracy: 0.8600\n",
      "Epoch 13/15\n",
      "1/1 [==============================] - 37s 37s/step - loss: 0.4247 - accuracy: 0.8596\n",
      "Epoch 14/15\n",
      "1/1 [==============================] - 38s 38s/step - loss: 0.4209 - accuracy: 0.8600\n",
      "Epoch 15/15\n",
      "1/1 [==============================] - 33s 33s/step - loss: 0.4220 - accuracy: 0.8600\n"
     ]
    }
   ],
   "source": [
    "transf_nn.fit(df_train.drop('label', axis = 1), df_train.label)"
   ]
  },
  {
   "cell_type": "code",
   "execution_count": 74,
   "metadata": {},
   "outputs": [
    {
     "name": "stdout",
     "output_type": "stream",
     "text": [
      "[[409   0]\n",
      " [ 73   0]]\n",
      "0.15145228215767634\n"
     ]
    }
   ],
   "source": [
    "y_pred = transf_nn.predict(df_test.drop('label', axis = 1))\n",
    "CM = metrics.confusion_matrix(df_test.label, y_pred)\n",
    "print(CM)\n",
    "FN = CM[1,0]\n",
    "print(FN/np.sum(CM))"
   ]
  },
  {
   "cell_type": "markdown",
   "metadata": {},
   "source": [
    "# Bert"
   ]
  },
  {
   "cell_type": "code",
   "execution_count": null,
   "metadata": {},
   "outputs": [],
   "source": [
    "bert_nn = NeuralModel(architecture_function=bert_model,\n",
    "                       pretrained_embedding=embedding,\n",
    "                       text_input_column='text')"
   ]
  },
  {
   "cell_type": "code",
   "execution_count": null,
   "metadata": {},
   "outputs": [],
   "source": [
    "bert_nn.fit(df_train.drop('label', axis = 1), df_train.label)"
   ]
  },
  {
   "cell_type": "code",
   "execution_count": null,
   "metadata": {},
   "outputs": [],
   "source": [
    "y_pred = bert_nn.predict(df_test.drop('label', axis = 1))\n",
    "CM = metrics.confusion_matrix(df_test.label, y_pred)\n",
    "print(CM)\n",
    "FN = CM[1,0]\n",
    "print(FN/np.sum(CM))"
   ]
  }
 ],
 "metadata": {
  "interpreter": {
   "hash": "444ad55116b32659c86cf21366f06a0b6b15c21184a40d72a1d77ccdcbfe1879"
  },
  "kernelspec": {
   "display_name": "Python 3.8.8 ('base')",
   "language": "python",
   "name": "python3"
  },
  "language_info": {
   "codemirror_mode": {
    "name": "ipython",
    "version": 3
   },
   "file_extension": ".py",
   "mimetype": "text/x-python",
   "name": "python",
   "nbconvert_exporter": "python",
   "pygments_lexer": "ipython3",
   "version": "3.8.8"
  },
  "orig_nbformat": 4
 },
 "nbformat": 4,
 "nbformat_minor": 2
}
