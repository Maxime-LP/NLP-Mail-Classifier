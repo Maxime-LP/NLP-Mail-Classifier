{
 "cells": [
  {
   "cell_type": "code",
   "execution_count": 2,
   "metadata": {},
   "outputs": [],
   "source": [
    "import pandas as pd\n",
    "import spacy, re\n",
    "import numpy as np\n",
    "from unidecode import unidecode\n",
    "from preprocessing import preprocessing_df"
   ]
  },
  {
   "cell_type": "markdown",
   "metadata": {},
   "source": [
    "# Exemple de lemmatisation"
   ]
  },
  {
   "cell_type": "code",
   "execution_count": 2,
   "metadata": {},
   "outputs": [],
   "source": [
    "inputText =\\\n",
    "\"\"\"\n",
    "Bonjour bonjour\n",
    "\n",
    "Lors de notre point mensuel sur la CSS je m’aperçois que sur le mois de mars nous avons énormément de tardifs qui ont été réglés sur mars en comparaison au mois de février. Je ne m’explique pas ce phénomène surtout que de ce que j’avais compris les non règlements du fait du pb avec OXANTIS ne concernaient que 5M€ au total et pour des soins 2019 et que cela devait finalement être récupéré sur le mois d’avril. De mon côté je ne pense pas avoir vu d’alerte sur des factures datant de 2015 et après qui n’auraient pas été réglées. D’où « sortent » ces règlements ?\n",
    "\n",
    "Je n’ai surement pas tout suivi dans le détail mais je trouve que les tardifs sont très élevés et il me sera demandé une explication par le Fonds CSS. Il est nécessaire je pense d’approfondir ce sujet car cela pourrait avoir des répercussions importantes sur notre définitif au niveau de la mutuelle si ce phénomène est généralisé\n",
    "\n",
    "   merci côté stats de me donner des précisions sur ce constat pour la CSS et si ceci est également constaté sur l’ensemble du portefeuille HM.\n",
    "\tEt en // merci à Nadège de regarder si tout est OK coté intégration dans DECIBEL\n",
    "\n",
    "D’avance je vous remercie pour toutes les précisions que vous pourrez m’apporter et je vous souhaite une bonne journée\n",
    "\n",
    "\"\"\""
   ]
  },
  {
   "cell_type": "code",
   "execution_count": 3,
   "metadata": {},
   "outputs": [
    {
     "name": "stdout",
     "output_type": "stream",
     "text": [
      "Pipeline: ['tok2vec', 'morphologizer', 'lemmatizer']\n"
     ]
    }
   ],
   "source": [
    "#fr_dep_news_trf, fr_core_news_md\n",
    "lemmatizer = spacy.load(\"fr_core_news_md\", disable = ['parser', 'attribute_ruler', 'ner'])\n",
    "print(\"Pipeline:\", lemmatizer.pipe_names)"
   ]
  },
  {
   "cell_type": "code",
   "execution_count": 4,
   "metadata": {},
   "outputs": [
    {
     "name": "stdout",
     "output_type": "stream",
     "text": [
      "['bonjour', 'bonjour', 'point', 'mensuel', 'css', 'apercevoir', 'mois', 'mars', 'enormement', 'tardif', 'etre', 'regler', 'mars', 'comparaison', 'mois', 'fevrier', 'explique', 'phenomene', 'non', 'reglement', 'probleme', 'oxantis', 'concerner', 'total', 'soin', '2019', 'devoir', 'finalement', 'recuperer', 'mois', 'avril', 'cote', 'alerte', 'facture', 'dater', '2015', 'etre', 'regler', 'sortir', 'reglement', 'surement', 'suivre', 'detail', 'trouve', 'tardif', 'eleve', 'demander', 'explication', 'fonds', 'css', 'necessaire', 'approfondir', 'sujet', 'repercussion', 'important', 'definitif', 'niveau', 'mutuel', 'phenomene', 'generaliser', 'cote', 'stat', 'donner', 'precision', 'constat', 'css', 'constater', 'ensemble', 'portefeuille', 'hm', 'nadege', 'regarder', 'ok', 'cote', 'integration', 'decibel', 'avance', 'remercier', 'precision', 'pouvoir', 'apporter', 'souhaite', 'bon', 'journee']\n"
     ]
    }
   ],
   "source": [
    "doc = lemmatizer(inputText)  # Create a Doc from raw text\n",
    "words_lemmas_list = [unidecode(token.lemma_.lower()) for token in doc if not token.is_stop and re.match('^\\w+$', token.lemma_.lower()) is not None]\n",
    "print(words_lemmas_list)"
   ]
  },
  {
   "cell_type": "markdown",
   "metadata": {},
   "source": [
    "# Application aux données"
   ]
  },
  {
   "cell_type": "markdown",
   "metadata": {},
   "source": [
    "### I - Preprocessing"
   ]
  },
  {
   "cell_type": "code",
   "execution_count": 8,
   "metadata": {},
   "outputs": [
    {
     "data": {
      "text/html": [
       "<div>\n",
       "<style scoped>\n",
       "    .dataframe tbody tr th:only-of-type {\n",
       "        vertical-align: middle;\n",
       "    }\n",
       "\n",
       "    .dataframe tbody tr th {\n",
       "        vertical-align: top;\n",
       "    }\n",
       "\n",
       "    .dataframe thead th {\n",
       "        text-align: right;\n",
       "    }\n",
       "</style>\n",
       "<table border=\"1\" class=\"dataframe\">\n",
       "  <thead>\n",
       "    <tr style=\"text-align: right;\">\n",
       "      <th></th>\n",
       "      <th>body</th>\n",
       "      <th>header</th>\n",
       "      <th>date</th>\n",
       "      <th>from</th>\n",
       "      <th>label</th>\n",
       "    </tr>\n",
       "  </thead>\n",
       "  <tbody>\n",
       "    <tr>\n",
       "      <th>0</th>\n",
       "      <td>yohan,\\r \\r quand tu as le temps, dis moi si c...</td>\n",
       "      <td>1ère relecture gt conso</td>\n",
       "      <td>Fri, 29 May 2020 16:53:04 +0200</td>\n",
       "      <td>plonquet nadège</td>\n",
       "      <td>0</td>\n",
       "    </tr>\n",
       "    <tr>\n",
       "      <th>1</th>\n",
       "      <td>pour accepter la demande, cliquez simplement s...</td>\n",
       "      <td>accepter</td>\n",
       "      <td>Mon, 16 Sep 2019 17:09:37 +0200</td>\n",
       "      <td>plonquet nadège</td>\n",
       "      <td>0</td>\n",
       "    </tr>\n",
       "    <tr>\n",
       "      <th>2</th>\n",
       "      <td>\\r bonjour,\\r pouvez-vous donner les accès à d...</td>\n",
       "      <td>acces decibel</td>\n",
       "      <td>Tue, 23 Mar 2021 13:44:07 +0100</td>\n",
       "      <td>=?iso-8859-1?q?guillaume_v=e9ronique?=\\r\\r\\n\\t...</td>\n",
       "      <td>1</td>\n",
       "    </tr>\n",
       "    <tr>\n",
       "      <th>3</th>\n",
       "      <td>comme ça ne fonctionne toujours pas sur mon po...</td>\n",
       "      <td>accès rec4 (http://decibel.sdw-rec4.hm.dm.ad/r...</td>\n",
       "      <td>Mon, 24 Feb 2020 14:28:57 +0100</td>\n",
       "      <td>gueniot bernard &lt;bernard.gueniot@harmonie-mutu...</td>\n",
       "      <td>1</td>\n",
       "    </tr>\n",
       "    <tr>\n",
       "      <th>4</th>\n",
       "      <td>tu sais ce que c’est que ces actes qui n’ont p...</td>\n",
       "      <td>actes indemnités hospitalières</td>\n",
       "      <td>Mon, 25 Mar 2019 11:25:36 +0100</td>\n",
       "      <td>levisse xavier &lt;xavier.levisse@harmonie-mutuel...</td>\n",
       "      <td>1</td>\n",
       "    </tr>\n",
       "  </tbody>\n",
       "</table>\n",
       "</div>"
      ],
      "text/plain": [
       "                                                body  \\\n",
       "0  yohan,\\r \\r quand tu as le temps, dis moi si c...   \n",
       "1  pour accepter la demande, cliquez simplement s...   \n",
       "2  \\r bonjour,\\r pouvez-vous donner les accès à d...   \n",
       "3  comme ça ne fonctionne toujours pas sur mon po...   \n",
       "4  tu sais ce que c’est que ces actes qui n’ont p...   \n",
       "\n",
       "                                              header  \\\n",
       "0                            1ère relecture gt conso   \n",
       "1                                           accepter   \n",
       "2                                      acces decibel   \n",
       "3  accès rec4 (http://decibel.sdw-rec4.hm.dm.ad/r...   \n",
       "4                     actes indemnités hospitalières   \n",
       "\n",
       "                              date  \\\n",
       "0  Fri, 29 May 2020 16:53:04 +0200   \n",
       "1  Mon, 16 Sep 2019 17:09:37 +0200   \n",
       "2  Tue, 23 Mar 2021 13:44:07 +0100   \n",
       "3  Mon, 24 Feb 2020 14:28:57 +0100   \n",
       "4  Mon, 25 Mar 2019 11:25:36 +0100   \n",
       "\n",
       "                                                from  label  \n",
       "0                                    plonquet nadège      0  \n",
       "1                                    plonquet nadège      0  \n",
       "2  =?iso-8859-1?q?guillaume_v=e9ronique?=\\r\\r\\n\\t...      1  \n",
       "3  gueniot bernard <bernard.gueniot@harmonie-mutu...      1  \n",
       "4  levisse xavier <xavier.levisse@harmonie-mutuel...      1  "
      ]
     },
     "execution_count": 8,
     "metadata": {},
     "output_type": "execute_result"
    }
   ],
   "source": [
    "df = pd.read_csv('data/mails.csv', encoding='utf-16', index_col = 0)\n",
    "df.head()"
   ]
  },
  {
   "cell_type": "code",
   "execution_count": 9,
   "metadata": {},
   "outputs": [
    {
     "data": {
      "text/html": [
       "<div>\n",
       "<style scoped>\n",
       "    .dataframe tbody tr th:only-of-type {\n",
       "        vertical-align: middle;\n",
       "    }\n",
       "\n",
       "    .dataframe tbody tr th {\n",
       "        vertical-align: top;\n",
       "    }\n",
       "\n",
       "    .dataframe thead th {\n",
       "        text-align: right;\n",
       "    }\n",
       "</style>\n",
       "<table border=\"1\" class=\"dataframe\">\n",
       "  <thead>\n",
       "    <tr style=\"text-align: right;\">\n",
       "      <th></th>\n",
       "      <th>body</th>\n",
       "      <th>header</th>\n",
       "      <th>date</th>\n",
       "      <th>from</th>\n",
       "      <th>label</th>\n",
       "      <th>text</th>\n",
       "    </tr>\n",
       "  </thead>\n",
       "  <tbody>\n",
       "    <tr>\n",
       "      <th>0</th>\n",
       "      <td>yohan,\\r \\r quand tu as le temps, dis moi si c...</td>\n",
       "      <td>1ère relecture gt conso</td>\n",
       "      <td>Fri, 29 May 2020 16:53:04 +0200</td>\n",
       "      <td>plonquet nadège</td>\n",
       "      <td>0</td>\n",
       "      <td>1ère relecture gt conso yohan quand tu as le t...</td>\n",
       "    </tr>\n",
       "    <tr>\n",
       "      <th>1</th>\n",
       "      <td>pour accepter la demande, cliquez simplement s...</td>\n",
       "      <td>accepter</td>\n",
       "      <td>Mon, 16 Sep 2019 17:09:37 +0200</td>\n",
       "      <td>plonquet nadège</td>\n",
       "      <td>0</td>\n",
       "      <td>accepter pour accepter la demande cliquez simp...</td>\n",
       "    </tr>\n",
       "    <tr>\n",
       "      <th>2</th>\n",
       "      <td>\\r bonjour,\\r pouvez-vous donner les accès à d...</td>\n",
       "      <td>acces decibel</td>\n",
       "      <td>Tue, 23 Mar 2021 13:44:07 +0100</td>\n",
       "      <td>=?iso-8859-1?q?guillaume_v=e9ronique?=\\r\\r\\n\\t...</td>\n",
       "      <td>1</td>\n",
       "      <td>acces decibel bonjour pouvez vous donner les a...</td>\n",
       "    </tr>\n",
       "    <tr>\n",
       "      <th>3</th>\n",
       "      <td>comme ça ne fonctionne toujours pas sur mon po...</td>\n",
       "      <td>accès rec4 (http://decibel.sdw-rec4.hm.dm.ad/r...</td>\n",
       "      <td>Mon, 24 Feb 2020 14:28:57 +0100</td>\n",
       "      <td>gueniot bernard &lt;bernard.gueniot@harmonie-mutu...</td>\n",
       "      <td>1</td>\n",
       "      <td>accès rec4 decibel sdw rec4 hm dm ad restituti...</td>\n",
       "    </tr>\n",
       "    <tr>\n",
       "      <th>4</th>\n",
       "      <td>tu sais ce que c’est que ces actes qui n’ont p...</td>\n",
       "      <td>actes indemnités hospitalières</td>\n",
       "      <td>Mon, 25 Mar 2019 11:25:36 +0100</td>\n",
       "      <td>levisse xavier &lt;xavier.levisse@harmonie-mutuel...</td>\n",
       "      <td>1</td>\n",
       "      <td>actes indemnités hospitalières tu sais ce que ...</td>\n",
       "    </tr>\n",
       "  </tbody>\n",
       "</table>\n",
       "</div>"
      ],
      "text/plain": [
       "                                                body  \\\n",
       "0  yohan,\\r \\r quand tu as le temps, dis moi si c...   \n",
       "1  pour accepter la demande, cliquez simplement s...   \n",
       "2  \\r bonjour,\\r pouvez-vous donner les accès à d...   \n",
       "3  comme ça ne fonctionne toujours pas sur mon po...   \n",
       "4  tu sais ce que c’est que ces actes qui n’ont p...   \n",
       "\n",
       "                                              header  \\\n",
       "0                            1ère relecture gt conso   \n",
       "1                                           accepter   \n",
       "2                                      acces decibel   \n",
       "3  accès rec4 (http://decibel.sdw-rec4.hm.dm.ad/r...   \n",
       "4                     actes indemnités hospitalières   \n",
       "\n",
       "                              date  \\\n",
       "0  Fri, 29 May 2020 16:53:04 +0200   \n",
       "1  Mon, 16 Sep 2019 17:09:37 +0200   \n",
       "2  Tue, 23 Mar 2021 13:44:07 +0100   \n",
       "3  Mon, 24 Feb 2020 14:28:57 +0100   \n",
       "4  Mon, 25 Mar 2019 11:25:36 +0100   \n",
       "\n",
       "                                                from  label  \\\n",
       "0                                    plonquet nadège      0   \n",
       "1                                    plonquet nadège      0   \n",
       "2  =?iso-8859-1?q?guillaume_v=e9ronique?=\\r\\r\\n\\t...      1   \n",
       "3  gueniot bernard <bernard.gueniot@harmonie-mutu...      1   \n",
       "4  levisse xavier <xavier.levisse@harmonie-mutuel...      1   \n",
       "\n",
       "                                                text  \n",
       "0  1ère relecture gt conso yohan quand tu as le t...  \n",
       "1  accepter pour accepter la demande cliquez simp...  \n",
       "2  acces decibel bonjour pouvez vous donner les a...  \n",
       "3  accès rec4 decibel sdw rec4 hm dm ad restituti...  \n",
       "4  actes indemnités hospitalières tu sais ce que ...  "
      ]
     },
     "execution_count": 9,
     "metadata": {},
     "output_type": "execute_result"
    }
   ],
   "source": [
    "df = preprocessing_df(df)\n",
    "df.to_csv('data/mails_preprocessing.csv', encoding = 'utf-16')\n",
    "df.head()"
   ]
  },
  {
   "cell_type": "markdown",
   "metadata": {},
   "source": [
    "### II - Lemmatisation"
   ]
  }
 ],
 "metadata": {
  "interpreter": {
   "hash": "444ad55116b32659c86cf21366f06a0b6b15c21184a40d72a1d77ccdcbfe1879"
  },
  "kernelspec": {
   "display_name": "Python 3.8.8 64-bit ('base': conda)",
   "language": "python",
   "name": "python3"
  },
  "language_info": {
   "codemirror_mode": {
    "name": "ipython",
    "version": 3
   },
   "file_extension": ".py",
   "mimetype": "text/x-python",
   "name": "python",
   "nbconvert_exporter": "python",
   "pygments_lexer": "ipython3",
   "version": "3.8.8"
  },
  "orig_nbformat": 4
 },
 "nbformat": 4,
 "nbformat_minor": 2
}
