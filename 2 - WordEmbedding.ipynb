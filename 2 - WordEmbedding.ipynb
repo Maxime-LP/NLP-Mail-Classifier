{
 "cells": [
  {
   "cell_type": "code",
   "execution_count": 2,
   "metadata": {},
   "outputs": [],
   "source": [
    "import pandas as pd\n",
    "import numpy as np\n",
    "from collections import defaultdict\n",
    "from unidecode import unidecode\n",
    "import spacy\n",
    "from spacy.lang.fr import French\n",
    "from spacy.lang.fr import stop_words as spacy_stopwords\n",
    "import string\n",
    "from tqdm import tqdm\n",
    "import matplotlib.pyplot as plt\n",
    "tqdm.pandas()"
   ]
  },
  {
   "cell_type": "code",
   "execution_count": 3,
   "metadata": {},
   "outputs": [
    {
     "name": "stdout",
     "output_type": "stream",
     "text": [
      "(3407, 7)\n"
     ]
    },
    {
     "data": {
      "text/html": [
       "<div>\n",
       "<style scoped>\n",
       "    .dataframe tbody tr th:only-of-type {\n",
       "        vertical-align: middle;\n",
       "    }\n",
       "\n",
       "    .dataframe tbody tr th {\n",
       "        vertical-align: top;\n",
       "    }\n",
       "\n",
       "    .dataframe thead th {\n",
       "        text-align: right;\n",
       "    }\n",
       "</style>\n",
       "<table border=\"1\" class=\"dataframe\">\n",
       "  <thead>\n",
       "    <tr style=\"text-align: right;\">\n",
       "      <th></th>\n",
       "      <th>body</th>\n",
       "      <th>header</th>\n",
       "      <th>date</th>\n",
       "      <th>from</th>\n",
       "      <th>to</th>\n",
       "      <th>label</th>\n",
       "      <th>text</th>\n",
       "    </tr>\n",
       "  </thead>\n",
       "  <tbody>\n",
       "    <tr>\n",
       "      <th>0</th>\n",
       "      <td>yohan quand tu as le temps dis moi si c est cl...</td>\n",
       "      <td>1ère relecture gt conso</td>\n",
       "      <td>Fri, 29 May 2020 16:53:04 +0200</td>\n",
       "      <td>plonquet nadège</td>\n",
       "      <td>NaN</td>\n",
       "      <td>0</td>\n",
       "      <td>1ère relecture gt conso yohan quand tu as le t...</td>\n",
       "    </tr>\n",
       "    <tr>\n",
       "      <th>1</th>\n",
       "      <td>pour accepter la demande cliquez simplement su...</td>\n",
       "      <td>accepter</td>\n",
       "      <td>Mon, 16 Sep 2019 17:09:37 +0200</td>\n",
       "      <td>plonquet nadège</td>\n",
       "      <td>NaN</td>\n",
       "      <td>0</td>\n",
       "      <td>accepter pour accepter la demande cliquez simp...</td>\n",
       "    </tr>\n",
       "    <tr>\n",
       "      <th>2</th>\n",
       "      <td>bonjour pouvez vous donner les accès à decibel...</td>\n",
       "      <td>acces decibel</td>\n",
       "      <td>Tue, 23 Mar 2021 13:44:07 +0100</td>\n",
       "      <td>guillaume veronique</td>\n",
       "      <td>NaN</td>\n",
       "      <td>1</td>\n",
       "      <td>acces decibel bonjour pouvez vous donner les a...</td>\n",
       "    </tr>\n",
       "    <tr>\n",
       "      <th>3</th>\n",
       "      <td>comme ça ne fonctionne toujours pas sur mon po...</td>\n",
       "      <td>accès rec4 decibel sdw rec4 hm dm ad restituti...</td>\n",
       "      <td>Mon, 24 Feb 2020 14:28:57 +0100</td>\n",
       "      <td>gueniot bernard</td>\n",
       "      <td>NaN</td>\n",
       "      <td>1</td>\n",
       "      <td>accès rec4 decibel sdw rec4 hm dm ad restituti...</td>\n",
       "    </tr>\n",
       "    <tr>\n",
       "      <th>4</th>\n",
       "      <td>tu sais ce que c est que ces actes qui n ont p...</td>\n",
       "      <td>actes indemnités hospitalières</td>\n",
       "      <td>Mon, 25 Mar 2019 11:25:36 +0100</td>\n",
       "      <td>levisse xavier</td>\n",
       "      <td>NaN</td>\n",
       "      <td>1</td>\n",
       "      <td>actes indemnités hospitalières tu sais ce que ...</td>\n",
       "    </tr>\n",
       "  </tbody>\n",
       "</table>\n",
       "</div>"
      ],
      "text/plain": [
       "                                                body  \\\n",
       "0  yohan quand tu as le temps dis moi si c est cl...   \n",
       "1  pour accepter la demande cliquez simplement su...   \n",
       "2  bonjour pouvez vous donner les accès à decibel...   \n",
       "3  comme ça ne fonctionne toujours pas sur mon po...   \n",
       "4  tu sais ce que c est que ces actes qui n ont p...   \n",
       "\n",
       "                                              header  \\\n",
       "0                            1ère relecture gt conso   \n",
       "1                                           accepter   \n",
       "2                                      acces decibel   \n",
       "3  accès rec4 decibel sdw rec4 hm dm ad restituti...   \n",
       "4                     actes indemnités hospitalières   \n",
       "\n",
       "                              date                 from  to  label  \\\n",
       "0  Fri, 29 May 2020 16:53:04 +0200      plonquet nadège NaN      0   \n",
       "1  Mon, 16 Sep 2019 17:09:37 +0200      plonquet nadège NaN      0   \n",
       "2  Tue, 23 Mar 2021 13:44:07 +0100  guillaume veronique NaN      1   \n",
       "3  Mon, 24 Feb 2020 14:28:57 +0100      gueniot bernard NaN      1   \n",
       "4  Mon, 25 Mar 2019 11:25:36 +0100       levisse xavier NaN      1   \n",
       "\n",
       "                                                text  \n",
       "0  1ère relecture gt conso yohan quand tu as le t...  \n",
       "1  accepter pour accepter la demande cliquez simp...  \n",
       "2  acces decibel bonjour pouvez vous donner les a...  \n",
       "3  accès rec4 decibel sdw rec4 hm dm ad restituti...  \n",
       "4  actes indemnités hospitalières tu sais ce que ...  "
      ]
     },
     "execution_count": 3,
     "metadata": {},
     "output_type": "execute_result"
    }
   ],
   "source": [
    "mails = pd.read_csv('mails.csv', index_col = 0, encoding='UTF-16', header=0, skipinitialspace=True, skip_blank_lines = True)\n",
    "mails['text'] = mails[['header', 'body']].astype(str).agg(' '.join, axis=1)\n",
    "print(mails.shape)\n",
    "mails.head()"
   ]
  },
  {
   "cell_type": "code",
   "execution_count": 26,
   "metadata": {},
   "outputs": [],
   "source": [
    "nlp = spacy.load(\"fr_core_news_md\")\n",
    "stop_words = spacy_stopwords.STOP_WORDS\n",
    "punctuations = string.punctuation"
   ]
  },
  {
   "cell_type": "code",
   "execution_count": 27,
   "metadata": {},
   "outputs": [
    {
     "data": {
      "text/plain": [
       "(300,)"
      ]
     },
     "execution_count": 27,
     "metadata": {},
     "output_type": "execute_result"
    }
   ],
   "source": [
    "bonjour = nlp(\"bonjour\")\n",
    "bonjour.vector.shape"
   ]
  },
  {
   "cell_type": "code",
   "execution_count": 28,
   "metadata": {},
   "outputs": [],
   "source": [
    "def tokenize(sentence):\n",
    "    sentence = nlp(sentence)\n",
    "    # lemmatizing\n",
    "    sentence = [unidecode(word.lemma_.lower()).strip() if word.lemma_ != \"-PRON-\" else word.lower_ for word in sentence ]\n",
    "    # removing stop words\n",
    "    sentence = [ word for word in sentence if word not in stop_words and word not in punctuations]        \n",
    "    return sentence"
   ]
  },
  {
   "cell_type": "code",
   "execution_count": null,
   "metadata": {},
   "outputs": [],
   "source": [
    "sentences = mails.text.progress_apply(tokenize)\n",
    "sentences"
   ]
  },
  {
   "cell_type": "code",
   "execution_count": 63,
   "metadata": {},
   "outputs": [],
   "source": [
    "pd.to_pickle(sentences, 'mails_embedded.pkl')"
   ]
  },
  {
   "cell_type": "code",
   "execution_count": 10,
   "metadata": {},
   "outputs": [
    {
     "name": "stdout",
     "output_type": "stream",
     "text": [
      "10820\n"
     ]
    }
   ],
   "source": [
    "vocab = set()\n",
    "for s in sentences:\n",
    "    vocab.update(set(s))\n",
    "print(len(vocab))"
   ]
  },
  {
   "cell_type": "code",
   "execution_count": 11,
   "metadata": {},
   "outputs": [
    {
     "name": "stderr",
     "output_type": "stream",
     "text": [
      "100%|██████████| 10820/10820 [00:32<00:00, 334.14it/s]\n"
     ]
    }
   ],
   "source": [
    "vectors=[]\n",
    "for token in tqdm(vocab):\n",
    "    vectors.append(nlp(token).vector)"
   ]
  },
  {
   "cell_type": "markdown",
   "metadata": {},
   "source": [
    "## Représentation des mots"
   ]
  },
  {
   "cell_type": "code",
   "execution_count": 12,
   "metadata": {},
   "outputs": [],
   "source": [
    "from sklearn.decomposition import PCA\n",
    "pca = PCA(n_components=2)\n",
    "embeddings_2d = pca.fit_transform(vectors)"
   ]
  },
  {
   "cell_type": "code",
   "execution_count": 13,
   "metadata": {},
   "outputs": [
    {
     "data": {
      "image/png": "[encoded data removed]",
      "text/plain": [
       "<Figure size 1152x648 with 1 Axes>"
      ]
     },
     "metadata": {
      "needs_background": "light"
     },
     "output_type": "display_data"
    }
   ],
   "source": [
    "fig = plt.figure(figsize=(16, 9))\n",
    "\n",
    "x_axis = embeddings_2d[:, 0]\n",
    "y_axis = embeddings_2d[:, 1]\n",
    "\n",
    "plt.scatter(x_axis, y_axis, s=5, alpha=0.5) # alpha for transparency\n",
    "plt.show()"
   ]
  },
  {
   "cell_type": "markdown",
   "metadata": {},
   "source": [
    "## Apprentissage semi-supervisé"
   ]
  },
  {
   "cell_type": "code",
   "execution_count": 25,
   "metadata": {},
   "outputs": [],
   "source": [
    "from sklearn.pipeline import Pipeline\n",
    "from sklearn.feature_extraction.text import CountVectorizer, TfidfVectorizer\n",
    "from sklearn.model_selection import train_test_split\n",
    "from sklearn.base import TransformerMixin\n",
    "from sklearn.metrics import classification_report\n",
    "from sklearn.metrics import accuracy_score\n",
    "\n",
    "plt.style.use('ggplot')\n",
    "\n",
    "#on cherche à maximiser le rappel de la classe 1"
   ]
  },
  {
   "cell_type": "code",
   "execution_count": 33,
   "metadata": {},
   "outputs": [],
   "source": [
    "class SpacyEmbeddings(TransformerMixin): # it inherits the sklearn's base class for transformers\n",
    "    def transform(self, X, **transform_params):\n",
    "        # Cleaning Text\n",
    "        return [sentence.strip().lower() for sentence in X]\n",
    "\n",
    "    def fit(self, X, y=None, **fit_params):\n",
    "        return self\n",
    "\n",
    "    def get_params(self, deep=True):\n",
    "        return {}\n",
    "bow_vector = CountVectorizer(tokenizer=tokenize, ngram_range=(1,1))\n",
    "tfidf_vector = TfidfVectorizer(tokenizer = tokenize)"
   ]
  },
  {
   "cell_type": "code",
   "execution_count": 51,
   "metadata": {},
   "outputs": [],
   "source": [
    "X_unlabeled = mails[mails['label'] == 2]\n",
    "X, y = mails[mails['label'] != 2], mails[mails['label'] != 2].label"
   ]
  },
  {
   "cell_type": "code",
   "execution_count": 44,
   "metadata": {},
   "outputs": [
    {
     "name": "stdout",
     "output_type": "stream",
     "text": [
      "0.9231568016614745\n",
      "              precision    recall  f1-score   support\n",
      "\n",
      "           0       0.96      0.95      0.96       835\n",
      "           1       0.70      0.73      0.72       128\n",
      "\n",
      "    accuracy                           0.92       963\n",
      "   macro avg       0.83      0.84      0.84       963\n",
      "weighted avg       0.92      0.92      0.92       963\n",
      "\n"
     ]
    }
   ],
   "source": [
    "from sklearn.tree import DecisionTreeClassifier\n",
    "pipe = Pipeline([(\"embedder\", SpacyEmbeddings()),\n",
    "                 ('vectorizer', bow_vector),\n",
    "                 ('classifier', DecisionTreeClassifier())])\n",
    "\n",
    "X_train, X_test, y_train, y_test = train_test_split(X.test, y, test_size=0.3)\n",
    "pipe.fit(X_train, y_train)\n",
    "\n",
    "y_pred = pipe.predict(X_test)\n",
    "print(accuracy_score(y_test,y_pred))\n",
    "print(classification_report(y_test, y_pred))"
   ]
  },
  {
   "cell_type": "code",
   "execution_count": 41,
   "metadata": {},
   "outputs": [
    {
     "name": "stdout",
     "output_type": "stream",
     "text": [
      "0.9148494288681205\n",
      "              precision    recall  f1-score   support\n",
      "\n",
      "           0       0.94      0.96      0.95       829\n",
      "           1       0.73      0.61      0.67       134\n",
      "\n",
      "    accuracy                           0.91       963\n",
      "   macro avg       0.84      0.79      0.81       963\n",
      "weighted avg       0.91      0.91      0.91       963\n",
      "\n"
     ]
    }
   ],
   "source": [
    "from sklearn.linear_model import LogisticRegression\n",
    "pipe = Pipeline([(\"embedder\", SpacyEmbeddings()),\n",
    "                 ('vectorizer', bow_vector),\n",
    "                 ('classifier', LogisticRegression(solver = 'newton-cg'))])\n",
    "\n",
    "X_train, X_test, y_train, y_test = train_test_split(X.test, y, test_size=0.3)\n",
    "pipe.fit(X_train, y_train)\n",
    "\n",
    "y_pred = pipe.predict(X_test)\n",
    "print(accuracy_score(y_test,y_pred))\n",
    "print(classification_report(y_test, y_pred))"
   ]
  },
  {
   "cell_type": "markdown",
   "metadata": {},
   "source": [
    "### Prédiction des labels manquants"
   ]
  },
  {
   "cell_type": "code",
   "execution_count": 52,
   "metadata": {},
   "outputs": [
    {
     "name": "stdout",
     "output_type": "stream",
     "text": [
      "(3210, 7) (197, 7)\n",
      "(3407, 7) (0, 7) 0.9\n"
     ]
    }
   ],
   "source": [
    "estimator = Pipeline([(\"embedder\", SpacyEmbeddings()),\n",
    "                 ('vectorizer', bow_vector),\n",
    "                 ('classifier', DecisionTreeClassifier())])  #SVC ou arbre\n",
    "\n",
    "X_unlabeled_copy = X_unlabeled.copy()\n",
    "newX = X\n",
    "newY = y\n",
    "threshold = 0.9\n",
    "print(newX.shape, X_unlabeled_copy.shape)\n",
    "while not X_unlabeled_copy.empty:\n",
    "\n",
    "    estimator.fit(newX.text, newY)\n",
    "    y_pred = estimator.predict(X_unlabeled_copy.text)\n",
    "    y_prob = estimator.predict_proba(X_unlabeled_copy.text)\n",
    "    X_unlabeled_copy['_pred_'] = y_pred\n",
    "    X_unlabeled_copy['_prob_'] = [y_prob[k,y_pred[k]] for k in range(len(y_pred))]\n",
    "    confident_pred = X_unlabeled_copy[X_unlabeled_copy['_prob_'] >= threshold]\n",
    "    X_unlabeled_copy = X_unlabeled_copy[X_unlabeled_copy['_prob_'] < threshold].drop(['_pred_', '_prob_'], axis = 1)\n",
    "    newX = pd.concat([newX, confident_pred.drop(['_pred_', '_prob_'], axis = 1)], ignore_index = True)\n",
    "    newY = pd.concat([newY, confident_pred['_pred_']], ignore_index = True)\n",
    "    print(newX.shape, X_unlabeled_copy.shape, threshold)\n",
    "\n",
    "    if len(confident_pred)==0:\n",
    "        break"
   ]
  },
  {
   "cell_type": "markdown",
   "metadata": {},
   "source": [
    "# Catégorisation des mails"
   ]
  },
  {
   "cell_type": "code",
   "execution_count": 60,
   "metadata": {},
   "outputs": [
    {
     "name": "stdout",
     "output_type": "stream",
     "text": [
      "0.9002932551319648\n",
      "              precision    recall  f1-score   support\n",
      "\n",
      "           0       0.94      0.94      0.94       864\n",
      "           1       0.67      0.70      0.69       159\n",
      "\n",
      "    accuracy                           0.90      1023\n",
      "   macro avg       0.81      0.82      0.81      1023\n",
      "weighted avg       0.90      0.90      0.90      1023\n",
      "\n"
     ]
    }
   ],
   "source": [
    "from sklearn.tree import DecisionTreeClassifier\n",
    "pipe = Pipeline([(\"embedder\", SpacyEmbeddings()),\n",
    "                 ('vectorizer', bow_vector),\n",
    "                 ('classifier', DecisionTreeClassifier())])\n",
    "\n",
    "X_train, X_test, y_train, y_test = train_test_split(newX.text, newY, test_size=0.3)\n",
    "pipe.fit(X_train, y_train)\n",
    "\n",
    "y_pred = pipe.predict(X_test)\n",
    "print(accuracy_score(y_test,y_pred))\n",
    "print(classification_report(y_test, y_pred))"
   ]
  },
  {
   "cell_type": "code",
   "execution_count": null,
   "metadata": {},
   "outputs": [],
   "source": [
    "from sklearn.svm import SVC\n",
    "X_train, X_test, y_train, y_test = train_test_split(newX.text, newY, test_size=0.3)\n",
    "pipe = Pipeline([(\"embedder\", SpacyEmbeddings()),\n",
    "                 ('vectorizer', bow_vector),\n",
    "                 ('classifier', SVC(class_weight='balanced'))])\n",
    "pipe.fit(X_train, y_train)\n",
    "\n",
    "y_pred = pipe.predict(X_test)\n",
    "print(accuracy_score(y_test,y_pred))\n",
    "print(classification_report(y_test, y_pred))"
   ]
  },
  {
   "cell_type": "code",
   "execution_count": 67,
   "metadata": {},
   "outputs": [
    {
     "name": "stdout",
     "output_type": "stream",
     "text": [
      "0.9110459433040078\n",
      "              precision    recall  f1-score   support\n",
      "\n",
      "           0       0.95      0.94      0.95       882\n",
      "           1       0.67      0.70      0.69       141\n",
      "\n",
      "    accuracy                           0.91      1023\n",
      "   macro avg       0.81      0.82      0.82      1023\n",
      "weighted avg       0.91      0.91      0.91      1023\n",
      "\n"
     ]
    }
   ],
   "source": [
    "X_train, X_test, y_train, y_test = train_test_split(newX.text, newY, test_size=0.3)\n",
    "pipe = Pipeline([(\"embedder\", SpacyEmbeddings()),\n",
    "                 ('vectorizer', bow_vector),\n",
    "                 ('classifier', LogisticRegression(solver = 'newton-cg'))])\n",
    "pipe.fit(X_train, y_train)\n",
    "\n",
    "y_pred = pipe.predict(X_test)\n",
    "print(accuracy_score(y_test,y_pred))\n",
    "print(classification_report(y_test, y_pred))"
   ]
  },
  {
   "cell_type": "markdown",
   "metadata": {},
   "source": [
    "## Optimisation des modèles"
   ]
  },
  {
   "cell_type": "code",
   "execution_count": 48,
   "metadata": {},
   "outputs": [
    {
     "name": "stdout",
     "output_type": "stream",
     "text": [
      "{'C': 0.1325, 'class_weight': None, 'kernel': 'linear'}\n",
      "0.9192010235179116\n"
     ]
    }
   ],
   "source": [
    "import pickle\n",
    "from sklearn.model_selection import GridSearchCV\n",
    "X_train, X_test, y_train, y_test = train_test_split(newX, newY, test_size=0.3)\n",
    "\n",
    "gridCV = GridSearchCV(SVC(),\n",
    "    n_jobs=-1,\n",
    "    param_grid = {\n",
    "        'C' : [0.1325],\n",
    "        'kernel' : ['linear'],\n",
    "        #'degree' : [1, 2, 3, 4],\n",
    "        #'gamma' : ['scale', 'auto'] + list(np.linspace(0,2,3)),\n",
    "        #'coef0' : np.linspace(-2,2,5),\n",
    "        'class_weight' : ['balanced', None],\n",
    "        #'decision_function_shape' : ['ovo', 'ovr']\n",
    "    }\n",
    ")\n",
    "\n",
    "gridCV.fit(X_train, y_train)\n",
    "print(gridCV.best_params_)\n",
    "print(gridCV.best_score_)\n",
    "#{'C': 0.1325, 'class_weight': None, 'kernel': 'linear'}"
   ]
  },
  {
   "cell_type": "code",
   "execution_count": 105,
   "metadata": {},
   "outputs": [
    {
     "data": {
      "text/plain": [
       "0.9105691056910569"
      ]
     },
     "execution_count": 105,
     "metadata": {},
     "output_type": "execute_result"
    }
   ],
   "source": [
    "model_svc = SVC(C=0.1325, kernel = 'linear')\n",
    "model_svc.fit(X_train, y_train)\n",
    "y_pred = model_svc.predict(X_test)\n",
    "accuracy_score(y_test, y_pred)"
   ]
  },
  {
   "cell_type": "code",
   "execution_count": null,
   "metadata": {},
   "outputs": [],
   "source": [
    "filename = 'svc_c01325_lin.sav'\n",
    "with open(filename, 'wb') as file:\n",
    "    pickle.dump(model_svc, file)"
   ]
  },
  {
   "cell_type": "code",
   "execution_count": null,
   "metadata": {},
   "outputs": [],
   "source": [
    "from sklearn.model_selection import GridSearchCV\n",
    "X_train, X_test, y_train, y_test = train_test_split(newX, newY, test_size=0.3)\n",
    "\n",
    "gridCV2 = GridSearchCV(LogisticRegression(),\n",
    "    n_jobs=-1,\n",
    "    param_grid = {\n",
    "'penalty' : ['l1', 'l2', 'elasticnet', 'none'],\n",
    "'dual' : [False, True],\n",
    "'C' : np.linspace(0.0001,3, 10),\n",
    "'fit_intercept' : [True, False],\n",
    "'class_weight' : [None, 'balanced'],\n",
    "'solver' : ['newton-cg', 'lbfgs', 'liblinear', 'sag', 'saga'],\n",
    "'warm_start' : [True],\n",
    "'l1_ratio' : [0, 0.5, 1]\n",
    "    }\n",
    ")\n",
    "\n",
    "gridCV2.fit(X_train, y_train)\n",
    "print(gridCV2.best_params_)\n",
    "print(gridCV2.best_score_)\n",
    "#{'C': 0.3334222222222222, 'class_weight': None, 'dual': False, 'fit_intercept': False, 'l1_ratio': 0, 'penalty': 'l1', 'solver': 'liblinear', 'warm_start': True}\n",
    "#0.91"
   ]
  },
  {
   "cell_type": "code",
   "execution_count": 24,
   "metadata": {},
   "outputs": [
    {
     "name": "stderr",
     "output_type": "stream",
     "text": [
      "C:\\Users\\le_paumier-m\\Anaconda3\\lib\\site-packages\\sklearn\\svm\\_base.py:985: ConvergenceWarning: Liblinear failed to converge, increase the number of iterations.\n",
      "  warnings.warn(\"Liblinear failed to converge, increase \"\n"
     ]
    },
    {
     "data": {
      "text/plain": [
       "0.9196337741607324"
      ]
     },
     "execution_count": 24,
     "metadata": {},
     "output_type": "execute_result"
    }
   ],
   "source": [
    "X_train, X_test, y_train, y_test = train_test_split(newX, newY, test_size=0.3)\n",
    "LR = LogisticRegression(C = 0.3334222222222222, class_weight = None, dual = True, fit_intercept = False, \n",
    "                        solver = 'liblinear', warm_start = True)\n",
    "LR.fit(X_train, y_train)\n",
    "y_pred = LR.predict(X_test)\n",
    "accuracy_score(y_test, y_pred)"
   ]
  },
  {
   "cell_type": "code",
   "execution_count": 116,
   "metadata": {},
   "outputs": [],
   "source": [
    "filename = 'lr_c033_liblinear_dual.sav'\n",
    "with open(filename, 'wb') as file:\n",
    "    pickle.dump(LR, file)"
   ]
  },
  {
   "cell_type": "code",
   "execution_count": 26,
   "metadata": {},
   "outputs": [
    {
     "name": "stderr",
     "output_type": "stream",
     "text": [
      "C:\\Users\\le_paumier-m\\Anaconda3\\lib\\site-packages\\sklearn\\svm\\_base.py:985: ConvergenceWarning: Liblinear failed to converge, increase the number of iterations.\n",
      "  warnings.warn(\"Liblinear failed to converge, increase \"\n"
     ]
    },
    {
     "data": {
      "text/plain": [
       "0.9116080937167199"
      ]
     },
     "execution_count": 26,
     "metadata": {},
     "output_type": "execute_result"
    }
   ],
   "source": [
    "X_train, X_test, y_train, y_test = train_test_split(X, y, test_size=0.3)\n",
    "LR = LogisticRegression(C = 0.3334222222222222, class_weight = None, dual = True, fit_intercept = False, \n",
    "                        solver = 'liblinear', warm_start = True)\n",
    "LR.fit(X_train, y_train)\n",
    "y_pred = LR.predict(X_test)\n",
    "accuracy_score(y_test, y_pred)"
   ]
  },
  {
   "cell_type": "markdown",
   "metadata": {},
   "source": [
    "Sur ces méthodes de machine learning classique, l'extension du dataset à partir des données non-labellisées ne produit pas une grande amélioration des performances, ce sera plus flagrant lorsqu'on passera à des méthodes de Deep Learning"
   ]
  },
  {
   "cell_type": "markdown",
   "metadata": {},
   "source": [
    "## Prédiction des probabilités"
   ]
  },
  {
   "cell_type": "code",
   "execution_count": 117,
   "metadata": {},
   "outputs": [
    {
     "data": {
      "text/plain": [
       "array([[0.99, 0.01],\n",
       "       [0.78, 0.22],\n",
       "       [0.14, 0.86],\n",
       "       ...,\n",
       "       [0.94, 0.06],\n",
       "       [0.98, 0.02],\n",
       "       [0.66, 0.34]])"
      ]
     },
     "execution_count": 117,
     "metadata": {},
     "output_type": "execute_result"
    }
   ],
   "source": [
    "np.round(LR.predict_proba(newX),2)"
   ]
  }
 ],
 "metadata": {
  "interpreter": {
   "hash": "444ad55116b32659c86cf21366f06a0b6b15c21184a40d72a1d77ccdcbfe1879"
  },
  "kernelspec": {
   "display_name": "Python 3.8.8 64-bit ('base': conda)",
   "language": "python",
   "name": "python3"
  },
  "language_info": {
   "codemirror_mode": {
    "name": "ipython",
    "version": 3
   },
   "file_extension": ".py",
   "mimetype": "text/x-python",
   "name": "python",
   "nbconvert_exporter": "python",
   "pygments_lexer": "ipython3",
   "version": "3.9.10"
  },
  "orig_nbformat": 4
 },
 "nbformat": 4,
 "nbformat_minor": 2
}
