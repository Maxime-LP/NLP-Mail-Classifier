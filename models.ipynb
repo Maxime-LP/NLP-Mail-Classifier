{
 "cells": [
  {
   "cell_type": "markdown",
   "metadata": {},
   "source": [
    "# Exemple de lemmatisation"
   ]
  },
  {
   "cell_type": "code",
   "execution_count": 1,
   "metadata": {},
   "outputs": [],
   "source": [
    "inputText =\\\n",
    "\"\"\"\n",
    "Bonjour bonjour\n",
    "\n",
    "Lors de notre point mensuel sur la CSS je m’aperçois que sur le mois de mars nous avons énormément de tardifs qui ont été réglés sur mars en comparaison au mois de février. Je ne m’explique pas ce phénomène surtout que de ce que j’avais compris les non règlements du fait du pb avec OXANTIS ne concernaient que 5M€ au total et pour des soins 2019 et que cela devait finalement être récupéré sur le mois d’avril. De mon côté je ne pense pas avoir vu d’alerte sur des factures datant de 2015 et après qui n’auraient pas été réglées. D’où « sortent » ces règlements ?\n",
    "\n",
    "Je n’ai surement pas tout suivi dans le détail mais je trouve que les tardifs sont très élevés et il me sera demandé une explication par le Fonds CSS. Il est nécessaire je pense d’approfondir ce sujet car cela pourrait avoir des répercussions importantes sur notre définitif au niveau de la mutuelle si ce phénomène est généralisé\n",
    "\n",
    "   merci côté stats de me donner des précisions sur ce constat pour la CSS et si ceci est également constaté sur l’ensemble du portefeuille HM.\n",
    "\tEt en // merci à Nadège de regarder si tout est OK coté intégration dans DECIBEL\n",
    "\n",
    "D’avance je vous remercie pour toutes les précisions que vous pourrez m’apporter et je vous souhaite une bonne journée\n",
    "\n",
    "\"\"\""
   ]
  },
  {
   "cell_type": "code",
   "execution_count": 5,
   "metadata": {},
   "outputs": [
    {
     "name": "stdout",
     "output_type": "stream",
     "text": [
      "Pipeline: ['tok2vec', 'morphologizer', 'lemmatizer']\n"
     ]
    }
   ],
   "source": [
    "#fr_dep_news_trf, fr_core_news_md\n",
    "\n",
    "import spacy, re\n",
    "lemmatizer = spacy.load(\"fr_core_news_md\", disable = ['parser', 'attribute_ruler', 'ner'])\n",
    "print(\"Pipeline:\", lemmatizer.pipe_names)"
   ]
  },
  {
   "cell_type": "code",
   "execution_count": 14,
   "metadata": {},
   "outputs": [
    {
     "name": "stdout",
     "output_type": "stream",
     "text": [
      "['bonjour', 'bonjour', 'point', 'mensuel', 'css', 'apercevoir', 'mois', 'mars', 'tardif', 'mars', 'comparaison', 'mois', 'explique', 'non', 'oxantis', 'concerner', 'total', 'soin', 'devoir', 'finalement', 'mois', 'avril', 'alerte', 'facture', 'dater', 'sortir', 'surement', 'suivre', 'trouve', 'tardif', 'demander', 'explication', 'fonds', 'css', 'approfondir', 'sujet', 'important', 'niveau', 'mutuel', 'stat', 'donner', 'constat', 'css', 'constater', 'ensemble', 'portefeuille', 'hm', 'regarder', 'ok', 'decibel', 'avance', 'remercier', 'pouvoir', 'apporter', 'souhaite', 'bon']\n"
     ]
    }
   ],
   "source": [
    "doc = lemmatizer(inputText)  # Create a Doc from raw text\n",
    "words_lemmas_list = [token.lemma_.lower() for token in doc if not token.is_stop and re.match('^[a-z]+$', token.lemma_.lower()) is not None]\n",
    "print(words_lemmas_list)"
   ]
  },
  {
   "cell_type": "markdown",
   "metadata": {},
   "source": [
    "# Application au dataset"
   ]
  },
  {
   "cell_type": "code",
   "execution_count": 2,
   "metadata": {},
   "outputs": [
    {
     "data": {
      "text/html": [
       "<div>\n",
       "<style scoped>\n",
       "    .dataframe tbody tr th:only-of-type {\n",
       "        vertical-align: middle;\n",
       "    }\n",
       "\n",
       "    .dataframe tbody tr th {\n",
       "        vertical-align: top;\n",
       "    }\n",
       "\n",
       "    .dataframe thead th {\n",
       "        text-align: right;\n",
       "    }\n",
       "</style>\n",
       "<table border=\"1\" class=\"dataframe\">\n",
       "  <thead>\n",
       "    <tr style=\"text-align: right;\">\n",
       "      <th></th>\n",
       "      <th>demande_de_support</th>\n",
       "      <th>sender</th>\n",
       "      <th>text</th>\n",
       "    </tr>\n",
       "  </thead>\n",
       "  <tbody>\n",
       "    <tr>\n",
       "      <th>0</th>\n",
       "      <td>0</td>\n",
       "      <td>plonquet nadège</td>\n",
       "      <td>1ère relecture gt conso yohan quand tu as le t...</td>\n",
       "    </tr>\n",
       "    <tr>\n",
       "      <th>1</th>\n",
       "      <td>0</td>\n",
       "      <td>plonquet nadège</td>\n",
       "      <td>accepter pour accepter la demande cliquez simp...</td>\n",
       "    </tr>\n",
       "    <tr>\n",
       "      <th>2</th>\n",
       "      <td>1</td>\n",
       "      <td>guillaume veronique</td>\n",
       "      <td>acces decibel bonjour pouvez vous donner les a...</td>\n",
       "    </tr>\n",
       "    <tr>\n",
       "      <th>3</th>\n",
       "      <td>1</td>\n",
       "      <td>gueniot bernard</td>\n",
       "      <td>accès rec4 decibel sdw rec4 hm dm ad restituti...</td>\n",
       "    </tr>\n",
       "    <tr>\n",
       "      <th>4</th>\n",
       "      <td>1</td>\n",
       "      <td>levisse xavier</td>\n",
       "      <td>actes indemnités hospitalières tu sais ce que ...</td>\n",
       "    </tr>\n",
       "  </tbody>\n",
       "</table>\n",
       "</div>"
      ],
      "text/plain": [
       "  demande_de_support               sender  \\\n",
       "0                  0      plonquet nadège   \n",
       "1                  0      plonquet nadège   \n",
       "2                  1  guillaume veronique   \n",
       "3                  1      gueniot bernard   \n",
       "4                  1       levisse xavier   \n",
       "\n",
       "                                                text  \n",
       "0  1ère relecture gt conso yohan quand tu as le t...  \n",
       "1  accepter pour accepter la demande cliquez simp...  \n",
       "2  acces decibel bonjour pouvez vous donner les a...  \n",
       "3  accès rec4 decibel sdw rec4 hm dm ad restituti...  \n",
       "4  actes indemnités hospitalières tu sais ce que ...  "
      ]
     },
     "execution_count": 2,
     "metadata": {},
     "output_type": "execute_result"
    }
   ],
   "source": [
    "import pandas as pd\n",
    "\n",
    "dataset1 = pd.read_csv('firstdataset.csv',index_col = 0,sep='¤',quotechar='§',encoding='UTF-16', engine='python',header=0,skipinitialspace=True,dtype=str)\n",
    "dataset1.head()"
   ]
  },
  {
   "cell_type": "code",
   "execution_count": 2,
   "metadata": {},
   "outputs": [
    {
     "name": "stdout",
     "output_type": "stream",
     "text": [
      "Lecture de firstdataset.csv ...\n",
      "Traitement des données ...\n",
      "[############################################################] 2514/2514\n",
      "Ecriture de finaldataset.csv ...\n"
     ]
    }
   ],
   "source": [
    "from preprocessing import WriteFinalDataset\n",
    "WriteFinalDataset(inputFile='firstdataset.csv',outputFile='finaldataset.csv')"
   ]
  },
  {
   "cell_type": "code",
   "execution_count": 66,
   "metadata": {},
   "outputs": [
    {
     "name": "stderr",
     "output_type": "stream",
     "text": [
      "C:\\Users\\le_paumier-m\\Anaconda3\\lib\\site-packages\\IPython\\core\\interactiveshell.py:3165: DtypeWarning: Columns (5396) have mixed types.Specify dtype option on import or set low_memory=False.\n",
      "  has_raised = await self.run_ast_nodes(code_ast.body, cell_name,\n"
     ]
    }
   ],
   "source": [
    "data = pd.read_csv('finaldataset.csv', index_col = 0, header=0, encoding='utf-16')\n",
    "data"
   ]
  },
  {
   "cell_type": "code",
   "execution_count": 67,
   "metadata": {},
   "outputs": [],
   "source": [
    "####temporaire\n",
    "\n",
    "data = data.replace(['0',0,'unkown'],[0,1,2])\n"
   ]
  },
  {
   "cell_type": "code",
   "execution_count": 68,
   "metadata": {},
   "outputs": [
    {
     "data": {
      "text/plain": [
       "(array([ 391.,    0.,    0.,    0.,    0., 1664.,    0.,    0.,    0.,\n",
       "         459.]),\n",
       " array([0. , 0.2, 0.4, 0.6, 0.8, 1. , 1.2, 1.4, 1.6, 1.8, 2. ]),\n",
       " <BarContainer object of 10 artists>)"
      ]
     },
     "execution_count": 68,
     "metadata": {},
     "output_type": "execute_result"
    },
    {
     "data": {
      "image/png": "[encoded data removed]",
      "text/plain": [
       "<Figure size 432x288 with 1 Axes>"
      ]
     },
     "metadata": {},
     "output_type": "display_data"
    }
   ],
   "source": [
    "plt.hist(list(data['demande_de_support']))"
   ]
  },
  {
   "cell_type": "code",
   "execution_count": 80,
   "metadata": {},
   "outputs": [],
   "source": [
    "X_unlabeled = data.loc[data[\"demande_de_support\"] == 2]\n",
    "X = data.loc[data[\"demande_de_support\"] != 2].drop(columns=['demande_de_support'])\n",
    "y = pd.Series(data.loc[data[\"demande_de_support\"] != 2]['demande_de_support'], dtype=int)\n",
    "\n",
    "types = {0:'Non Assistance', 1:\"Assistance\"}\n",
    "\n",
    "#types = {0:'Non Assistance', 1:\"Aide à l'utilisation\", 2:\"Assistance\", 3:\"Demande d'habilitation\", 4:\"Demande d'information\"}\n",
    "# extraire direction + service"
   ]
  },
  {
   "cell_type": "code",
   "execution_count": 42,
   "metadata": {},
   "outputs": [],
   "source": [
    "import seaborn as sns\n",
    "from sklearn.preprocessing import StandardScaler\n",
    "import numpy as np\n",
    "import matplotlib.pyplot as plt\n",
    "from sklearn.model_selection import train_test_split\n",
    "\n",
    "plt.style.use('ggplot')"
   ]
  },
  {
   "cell_type": "code",
   "execution_count": 108,
   "metadata": {},
   "outputs": [],
   "source": [
    "def costFN(y_true,y_pred):\n",
    "    return np.mean(y_true)"
   ]
  },
  {
   "cell_type": "code",
   "execution_count": 109,
   "metadata": {},
   "outputs": [
    {
     "name": "stderr",
     "output_type": "stream",
     "text": [
      "C:\\Users\\le_paumier-m\\Anaconda3\\lib\\site-packages\\sklearn\\cluster\\_kmeans.py:792: FutureWarning: 'n_jobs' was deprecated in version 0.23 and will be removed in 1.0 (renaming of 0.25).\n",
      "  warnings.warn(\"'n_jobs' was deprecated in version 0.23 and will be\"\n"
     ]
    },
    {
     "data": {
      "text/plain": [
       "0.20040485829959515"
      ]
     },
     "execution_count": 109,
     "metadata": {},
     "output_type": "execute_result"
    }
   ],
   "source": [
    "from sklearn.cluster import KMeans\n",
    "from sklearn.metrics import accuracy_score\n",
    "\n",
    "X_train, X_test, y_train, y_test = train_test_split(X, y, test_size=0.2, random_state=90210)\n",
    "X_train, X_val, y_train, y_val = train_test_split(X_train, y_train, test_size=0.3, random_state=90210)\n",
    "\n",
    "clustering = KMeans(n_clusters=2, random_state=8675309, n_jobs=-1)\n",
    "clustering.fit(X_train)\n",
    "\n",
    "# predict labels on the val set\n",
    "y_pred = clustering.predict(X_val)\n",
    "accuracy_score(y_val,y_pred)"
   ]
  }
 ],
 "metadata": {
  "interpreter": {
   "hash": "444ad55116b32659c86cf21366f06a0b6b15c21184a40d72a1d77ccdcbfe1879"
  },
  "kernelspec": {
   "display_name": "Python 3.8.8 64-bit ('base': conda)",
   "language": "python",
   "name": "python3"
  },
  "language_info": {
   "codemirror_mode": {
    "name": "ipython",
    "version": 3
   },
   "file_extension": ".py",
   "mimetype": "text/x-python",
   "name": "python",
   "nbconvert_exporter": "python",
   "pygments_lexer": "ipython3",
   "version": "3.8.8"
  },
  "orig_nbformat": 4
 },
 "nbformat": 4,
 "nbformat_minor": 2
}
