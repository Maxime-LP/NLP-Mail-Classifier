{
 "cells": [
  {
   "cell_type": "code",
   "execution_count": 5,
   "metadata": {},
   "outputs": [],
   "source": [
    "import pandas as pd\n",
    "import spacy, re\n",
    "import numpy as np\n",
    "from collections import Counter, defaultdict\n",
    "#from unidecode import unidecode\n",
    "import seaborn as sns"
   ]
  },
  {
   "cell_type": "markdown",
   "metadata": {},
   "source": [
    "# Exemple de lemmatisation"
   ]
  },
  {
   "cell_type": "code",
   "execution_count": 2,
   "metadata": {},
   "outputs": [],
   "source": [
    "inputText =\\\n",
    "\"\"\"\n",
    "Bonjour bonjour\n",
    "\n",
    "Lors de notre point mensuel sur la CSS je m’aperçois que sur le mois de mars nous avons énormément de tardifs qui ont été réglés sur mars en comparaison au mois de février. Je ne m’explique pas ce phénomène surtout que de ce que j’avais compris les non règlements du fait du pb avec OXANTIS ne concernaient que 5M€ au total et pour des soins 2019 et que cela devait finalement être récupéré sur le mois d’avril. De mon côté je ne pense pas avoir vu d’alerte sur des factures datant de 2015 et après qui n’auraient pas été réglées. D’où « sortent » ces règlements ?\n",
    "\n",
    "Je n’ai surement pas tout suivi dans le détail mais je trouve que les tardifs sont très élevés et il me sera demandé une explication par le Fonds CSS. Il est nécessaire je pense d’approfondir ce sujet car cela pourrait avoir des répercussions importantes sur notre définitif au niveau de la mutuelle si ce phénomène est généralisé\n",
    "\n",
    "   merci côté stats de me donner des précisions sur ce constat pour la CSS et si ceci est également constaté sur l’ensemble du portefeuille HM.\n",
    "\tEt en // merci à Nadège de regarder si tout est OK coté intégration dans DECIBEL\n",
    "\n",
    "D’avance je vous remercie pour toutes les précisions que vous pourrez m’apporter et je vous souhaite une bonne journée\n",
    "\n",
    "\"\"\""
   ]
  },
  {
   "cell_type": "code",
   "execution_count": 3,
   "metadata": {},
   "outputs": [
    {
     "name": "stdout",
     "output_type": "stream",
     "text": [
      "Pipeline: ['tok2vec', 'morphologizer', 'lemmatizer']\n"
     ]
    }
   ],
   "source": [
    "#fr_dep_news_trf, fr_core_news_md\n",
    "lemmatizer = spacy.load(\"fr_core_news_md\", disable = ['parser', 'attribute_ruler', 'ner'])\n",
    "print(\"Pipeline:\", lemmatizer.pipe_names)"
   ]
  },
  {
   "cell_type": "code",
   "execution_count": 4,
   "metadata": {},
   "outputs": [
    {
     "name": "stdout",
     "output_type": "stream",
     "text": [
      "['bonjour', 'bonjour', 'point', 'mensuel', 'css', 'apercevoir', 'mois', 'mars', 'enormement', 'tardif', 'etre', 'regler', 'mars', 'comparaison', 'mois', 'fevrier', 'explique', 'phenomene', 'non', 'reglement', 'probleme', 'oxantis', 'concerner', 'total', 'soin', '2019', 'devoir', 'finalement', 'recuperer', 'mois', 'avril', 'cote', 'alerte', 'facture', 'dater', '2015', 'etre', 'regler', 'sortir', 'reglement', 'surement', 'suivre', 'detail', 'trouve', 'tardif', 'eleve', 'demander', 'explication', 'fonds', 'css', 'necessaire', 'approfondir', 'sujet', 'repercussion', 'important', 'definitif', 'niveau', 'mutuel', 'phenomene', 'generaliser', 'cote', 'stat', 'donner', 'precision', 'constat', 'css', 'constater', 'ensemble', 'portefeuille', 'hm', 'nadege', 'regarder', 'ok', 'cote', 'integration', 'decibel', 'avance', 'remercier', 'precision', 'pouvoir', 'apporter', 'souhaite', 'bon', 'journee']\n"
     ]
    }
   ],
   "source": [
    "doc = lemmatizer(inputText)  # Create a Doc from raw text\n",
    "words_lemmas_list = [unidecode(token.lemma_.lower()) for token in doc if not token.is_stop and re.match('^\\w+$', token.lemma_.lower()) is not None]\n",
    "print(words_lemmas_list)"
   ]
  },
  {
   "cell_type": "markdown",
   "metadata": {},
   "source": [
    "# Application au dataset"
   ]
  },
  {
   "cell_type": "code",
   "execution_count": 5,
   "metadata": {},
   "outputs": [],
   "source": [
    "with open('firstdataset.csv','r', encoding='utf-16') as csvfile:\n",
    "    data = csvfile.read()\n",
    "with open('firstdataset2.csv','w', encoding='utf-16') as csvfile:\n",
    "    csvfile.write(data.replace('\\x00',''))"
   ]
  },
  {
   "cell_type": "code",
   "execution_count": 5,
   "metadata": {},
   "outputs": [
    {
     "name": "stdout",
     "output_type": "stream",
     "text": [
      "(3296, 3)\n"
     ]
    },
    {
     "data": {
      "text/html": [
       "<div>\n",
       "<style scoped>\n",
       "    .dataframe tbody tr th:only-of-type {\n",
       "        vertical-align: middle;\n",
       "    }\n",
       "\n",
       "    .dataframe tbody tr th {\n",
       "        vertical-align: top;\n",
       "    }\n",
       "\n",
       "    .dataframe thead th {\n",
       "        text-align: right;\n",
       "    }\n",
       "</style>\n",
       "<table border=\"1\" class=\"dataframe\">\n",
       "  <thead>\n",
       "    <tr style=\"text-align: right;\">\n",
       "      <th></th>\n",
       "      <th>demande_de_support</th>\n",
       "      <th>sender</th>\n",
       "      <th>text</th>\n",
       "    </tr>\n",
       "  </thead>\n",
       "  <tbody>\n",
       "    <tr>\n",
       "      <th>0</th>\n",
       "      <td>0</td>\n",
       "      <td>plonquet nadège</td>\n",
       "      <td>1ère relecture gt conso yohan quand tu as le t...</td>\n",
       "    </tr>\n",
       "    <tr>\n",
       "      <th>1</th>\n",
       "      <td>0</td>\n",
       "      <td>plonquet nadège</td>\n",
       "      <td>accepter pour accepter la demande cliquez simp...</td>\n",
       "    </tr>\n",
       "    <tr>\n",
       "      <th>2</th>\n",
       "      <td>1</td>\n",
       "      <td>guillaume veronique</td>\n",
       "      <td>acces decibel bonjour pouvez-vous donner les a...</td>\n",
       "    </tr>\n",
       "    <tr>\n",
       "      <th>3</th>\n",
       "      <td>1</td>\n",
       "      <td>gueniot bernard</td>\n",
       "      <td>accès rec4 decibel sdw-rec4 hm dm ad restituti...</td>\n",
       "    </tr>\n",
       "    <tr>\n",
       "      <th>4</th>\n",
       "      <td>1</td>\n",
       "      <td>levisse xavier</td>\n",
       "      <td>actes indemnités hospitalières tu sais ce que ...</td>\n",
       "    </tr>\n",
       "  </tbody>\n",
       "</table>\n",
       "</div>"
      ],
      "text/plain": [
       "   demande_de_support               sender  \\\n",
       "0                   0      plonquet nadège   \n",
       "1                   0      plonquet nadège   \n",
       "2                   1  guillaume veronique   \n",
       "3                   1      gueniot bernard   \n",
       "4                   1       levisse xavier   \n",
       "\n",
       "                                                text  \n",
       "0  1ère relecture gt conso yohan quand tu as le t...  \n",
       "1  accepter pour accepter la demande cliquez simp...  \n",
       "2  acces decibel bonjour pouvez-vous donner les a...  \n",
       "3  accès rec4 decibel sdw-rec4 hm dm ad restituti...  \n",
       "4  actes indemnités hospitalières tu sais ce que ...  "
      ]
     },
     "execution_count": 5,
     "metadata": {},
     "output_type": "execute_result"
    }
   ],
   "source": [
    "dataset1 = pd.read_csv('firstdataset2.csv',index_col = 0,sep='¤',quotechar='§',encoding='UTF-16', engine='python',header=0, skipinitialspace=True, skip_blank_lines = True)\n",
    "print(dataset1.shape)\n",
    "dataset1.head()"
   ]
  },
  {
   "cell_type": "code",
   "execution_count": 6,
   "metadata": {},
   "outputs": [
    {
     "name": "stdout",
     "output_type": "stream",
     "text": [
      "Lecture de firstdataset2.csv ...\n",
      "Traitement des données ...\n",
      "[############################################################] 3296/3296\n",
      "\n",
      "\n",
      "Ecriture de finaldataset.csv ...\n"
     ]
    }
   ],
   "source": [
    "from preprocessing import WriteFinalDataset\n",
    "WriteFinalDataset(inputFile='firstdataset2.csv',outputFile='finaldataset.csv')"
   ]
  },
  {
   "cell_type": "code",
   "execution_count": 6,
   "metadata": {},
   "outputs": [
    {
     "data": {
      "text/html": [
       "<div>\n",
       "<style scoped>\n",
       "    .dataframe tbody tr th:only-of-type {\n",
       "        vertical-align: middle;\n",
       "    }\n",
       "\n",
       "    .dataframe tbody tr th {\n",
       "        vertical-align: top;\n",
       "    }\n",
       "\n",
       "    .dataframe thead th {\n",
       "        text-align: right;\n",
       "    }\n",
       "</style>\n",
       "<table border=\"1\" class=\"dataframe\">\n",
       "  <thead>\n",
       "    <tr style=\"text-align: right;\">\n",
       "      <th></th>\n",
       "      <th>1ere</th>\n",
       "      <th>relecture</th>\n",
       "      <th>gt</th>\n",
       "      <th>consommation</th>\n",
       "      <th>yohan</th>\n",
       "      <th>temps</th>\n",
       "      <th>dire</th>\n",
       "      <th>clair</th>\n",
       "      <th>mettre</th>\n",
       "      <th>decibel</th>\n",
       "      <th>...</th>\n",
       "      <th>rcsup</th>\n",
       "      <th>noyer</th>\n",
       "      <th>redetailler</th>\n",
       "      <th>brosset</th>\n",
       "      <th>faculte</th>\n",
       "      <th>lavoisier</th>\n",
       "      <th>lepaumier</th>\n",
       "      <th>3xx5521b</th>\n",
       "      <th>minuscule</th>\n",
       "      <th>demande_de_support</th>\n",
       "    </tr>\n",
       "  </thead>\n",
       "  <tbody>\n",
       "    <tr>\n",
       "      <th>0</th>\n",
       "      <td>1</td>\n",
       "      <td>1</td>\n",
       "      <td>1</td>\n",
       "      <td>1</td>\n",
       "      <td>1</td>\n",
       "      <td>1</td>\n",
       "      <td>1</td>\n",
       "      <td>1</td>\n",
       "      <td>2</td>\n",
       "      <td>1</td>\n",
       "      <td>...</td>\n",
       "      <td>0</td>\n",
       "      <td>0</td>\n",
       "      <td>0</td>\n",
       "      <td>0</td>\n",
       "      <td>0</td>\n",
       "      <td>0</td>\n",
       "      <td>0</td>\n",
       "      <td>0</td>\n",
       "      <td>0</td>\n",
       "      <td>0</td>\n",
       "    </tr>\n",
       "    <tr>\n",
       "      <th>1</th>\n",
       "      <td>0</td>\n",
       "      <td>0</td>\n",
       "      <td>0</td>\n",
       "      <td>0</td>\n",
       "      <td>0</td>\n",
       "      <td>0</td>\n",
       "      <td>0</td>\n",
       "      <td>0</td>\n",
       "      <td>0</td>\n",
       "      <td>0</td>\n",
       "      <td>...</td>\n",
       "      <td>0</td>\n",
       "      <td>0</td>\n",
       "      <td>0</td>\n",
       "      <td>0</td>\n",
       "      <td>0</td>\n",
       "      <td>0</td>\n",
       "      <td>0</td>\n",
       "      <td>0</td>\n",
       "      <td>0</td>\n",
       "      <td>0</td>\n",
       "    </tr>\n",
       "    <tr>\n",
       "      <th>2</th>\n",
       "      <td>0</td>\n",
       "      <td>0</td>\n",
       "      <td>0</td>\n",
       "      <td>0</td>\n",
       "      <td>0</td>\n",
       "      <td>0</td>\n",
       "      <td>0</td>\n",
       "      <td>0</td>\n",
       "      <td>0</td>\n",
       "      <td>2</td>\n",
       "      <td>...</td>\n",
       "      <td>0</td>\n",
       "      <td>0</td>\n",
       "      <td>0</td>\n",
       "      <td>0</td>\n",
       "      <td>0</td>\n",
       "      <td>0</td>\n",
       "      <td>0</td>\n",
       "      <td>0</td>\n",
       "      <td>0</td>\n",
       "      <td>1</td>\n",
       "    </tr>\n",
       "    <tr>\n",
       "      <th>3</th>\n",
       "      <td>0</td>\n",
       "      <td>0</td>\n",
       "      <td>0</td>\n",
       "      <td>0</td>\n",
       "      <td>0</td>\n",
       "      <td>0</td>\n",
       "      <td>0</td>\n",
       "      <td>0</td>\n",
       "      <td>0</td>\n",
       "      <td>1</td>\n",
       "      <td>...</td>\n",
       "      <td>0</td>\n",
       "      <td>0</td>\n",
       "      <td>0</td>\n",
       "      <td>0</td>\n",
       "      <td>0</td>\n",
       "      <td>0</td>\n",
       "      <td>0</td>\n",
       "      <td>0</td>\n",
       "      <td>0</td>\n",
       "      <td>1</td>\n",
       "    </tr>\n",
       "    <tr>\n",
       "      <th>4</th>\n",
       "      <td>0</td>\n",
       "      <td>0</td>\n",
       "      <td>0</td>\n",
       "      <td>0</td>\n",
       "      <td>0</td>\n",
       "      <td>0</td>\n",
       "      <td>0</td>\n",
       "      <td>0</td>\n",
       "      <td>0</td>\n",
       "      <td>0</td>\n",
       "      <td>...</td>\n",
       "      <td>0</td>\n",
       "      <td>0</td>\n",
       "      <td>0</td>\n",
       "      <td>0</td>\n",
       "      <td>0</td>\n",
       "      <td>0</td>\n",
       "      <td>0</td>\n",
       "      <td>0</td>\n",
       "      <td>0</td>\n",
       "      <td>1</td>\n",
       "    </tr>\n",
       "    <tr>\n",
       "      <th>...</th>\n",
       "      <td>...</td>\n",
       "      <td>...</td>\n",
       "      <td>...</td>\n",
       "      <td>...</td>\n",
       "      <td>...</td>\n",
       "      <td>...</td>\n",
       "      <td>...</td>\n",
       "      <td>...</td>\n",
       "      <td>...</td>\n",
       "      <td>...</td>\n",
       "      <td>...</td>\n",
       "      <td>...</td>\n",
       "      <td>...</td>\n",
       "      <td>...</td>\n",
       "      <td>...</td>\n",
       "      <td>...</td>\n",
       "      <td>...</td>\n",
       "      <td>...</td>\n",
       "      <td>...</td>\n",
       "      <td>...</td>\n",
       "      <td>...</td>\n",
       "    </tr>\n",
       "    <tr>\n",
       "      <th>3291</th>\n",
       "      <td>0</td>\n",
       "      <td>0</td>\n",
       "      <td>0</td>\n",
       "      <td>0</td>\n",
       "      <td>0</td>\n",
       "      <td>0</td>\n",
       "      <td>0</td>\n",
       "      <td>0</td>\n",
       "      <td>2</td>\n",
       "      <td>0</td>\n",
       "      <td>...</td>\n",
       "      <td>1</td>\n",
       "      <td>0</td>\n",
       "      <td>0</td>\n",
       "      <td>0</td>\n",
       "      <td>0</td>\n",
       "      <td>0</td>\n",
       "      <td>0</td>\n",
       "      <td>0</td>\n",
       "      <td>0</td>\n",
       "      <td>0</td>\n",
       "    </tr>\n",
       "    <tr>\n",
       "      <th>3292</th>\n",
       "      <td>0</td>\n",
       "      <td>0</td>\n",
       "      <td>0</td>\n",
       "      <td>0</td>\n",
       "      <td>0</td>\n",
       "      <td>0</td>\n",
       "      <td>0</td>\n",
       "      <td>0</td>\n",
       "      <td>3</td>\n",
       "      <td>0</td>\n",
       "      <td>...</td>\n",
       "      <td>0</td>\n",
       "      <td>0</td>\n",
       "      <td>0</td>\n",
       "      <td>0</td>\n",
       "      <td>0</td>\n",
       "      <td>0</td>\n",
       "      <td>0</td>\n",
       "      <td>0</td>\n",
       "      <td>0</td>\n",
       "      <td>0</td>\n",
       "    </tr>\n",
       "    <tr>\n",
       "      <th>3293</th>\n",
       "      <td>0</td>\n",
       "      <td>0</td>\n",
       "      <td>0</td>\n",
       "      <td>0</td>\n",
       "      <td>0</td>\n",
       "      <td>0</td>\n",
       "      <td>0</td>\n",
       "      <td>0</td>\n",
       "      <td>2</td>\n",
       "      <td>0</td>\n",
       "      <td>...</td>\n",
       "      <td>0</td>\n",
       "      <td>0</td>\n",
       "      <td>0</td>\n",
       "      <td>0</td>\n",
       "      <td>0</td>\n",
       "      <td>0</td>\n",
       "      <td>0</td>\n",
       "      <td>0</td>\n",
       "      <td>0</td>\n",
       "      <td>0</td>\n",
       "    </tr>\n",
       "    <tr>\n",
       "      <th>3294</th>\n",
       "      <td>0</td>\n",
       "      <td>0</td>\n",
       "      <td>0</td>\n",
       "      <td>0</td>\n",
       "      <td>0</td>\n",
       "      <td>0</td>\n",
       "      <td>0</td>\n",
       "      <td>0</td>\n",
       "      <td>0</td>\n",
       "      <td>0</td>\n",
       "      <td>...</td>\n",
       "      <td>0</td>\n",
       "      <td>1</td>\n",
       "      <td>1</td>\n",
       "      <td>1</td>\n",
       "      <td>1</td>\n",
       "      <td>1</td>\n",
       "      <td>1</td>\n",
       "      <td>0</td>\n",
       "      <td>0</td>\n",
       "      <td>0</td>\n",
       "    </tr>\n",
       "    <tr>\n",
       "      <th>3295</th>\n",
       "      <td>0</td>\n",
       "      <td>0</td>\n",
       "      <td>0</td>\n",
       "      <td>0</td>\n",
       "      <td>0</td>\n",
       "      <td>0</td>\n",
       "      <td>0</td>\n",
       "      <td>0</td>\n",
       "      <td>0</td>\n",
       "      <td>0</td>\n",
       "      <td>...</td>\n",
       "      <td>0</td>\n",
       "      <td>0</td>\n",
       "      <td>0</td>\n",
       "      <td>0</td>\n",
       "      <td>0</td>\n",
       "      <td>0</td>\n",
       "      <td>0</td>\n",
       "      <td>1</td>\n",
       "      <td>1</td>\n",
       "      <td>0</td>\n",
       "    </tr>\n",
       "  </tbody>\n",
       "</table>\n",
       "<p>3296 rows × 10360 columns</p>\n",
       "</div>"
      ],
      "text/plain": [
       "      1ere  relecture  gt  consommation  yohan  temps  dire  clair  mettre  \\\n",
       "0        1          1   1             1      1      1     1      1       2   \n",
       "1        0          0   0             0      0      0     0      0       0   \n",
       "2        0          0   0             0      0      0     0      0       0   \n",
       "3        0          0   0             0      0      0     0      0       0   \n",
       "4        0          0   0             0      0      0     0      0       0   \n",
       "...    ...        ...  ..           ...    ...    ...   ...    ...     ...   \n",
       "3291     0          0   0             0      0      0     0      0       2   \n",
       "3292     0          0   0             0      0      0     0      0       3   \n",
       "3293     0          0   0             0      0      0     0      0       2   \n",
       "3294     0          0   0             0      0      0     0      0       0   \n",
       "3295     0          0   0             0      0      0     0      0       0   \n",
       "\n",
       "      decibel  ...  rcsup  noyer  redetailler  brosset  faculte  lavoisier  \\\n",
       "0           1  ...      0      0            0        0        0          0   \n",
       "1           0  ...      0      0            0        0        0          0   \n",
       "2           2  ...      0      0            0        0        0          0   \n",
       "3           1  ...      0      0            0        0        0          0   \n",
       "4           0  ...      0      0            0        0        0          0   \n",
       "...       ...  ...    ...    ...          ...      ...      ...        ...   \n",
       "3291        0  ...      1      0            0        0        0          0   \n",
       "3292        0  ...      0      0            0        0        0          0   \n",
       "3293        0  ...      0      0            0        0        0          0   \n",
       "3294        0  ...      0      1            1        1        1          1   \n",
       "3295        0  ...      0      0            0        0        0          0   \n",
       "\n",
       "      lepaumier  3xx5521b  minuscule  demande_de_support  \n",
       "0             0         0          0                   0  \n",
       "1             0         0          0                   0  \n",
       "2             0         0          0                   1  \n",
       "3             0         0          0                   1  \n",
       "4             0         0          0                   1  \n",
       "...         ...       ...        ...                 ...  \n",
       "3291          0         0          0                   0  \n",
       "3292          0         0          0                   0  \n",
       "3293          0         0          0                   0  \n",
       "3294          1         0          0                   0  \n",
       "3295          0         1          1                   0  \n",
       "\n",
       "[3296 rows x 10360 columns]"
      ]
     },
     "execution_count": 6,
     "metadata": {},
     "output_type": "execute_result"
    }
   ],
   "source": [
    "data = pd.read_csv('finaldataset.csv', index_col = 0, header=0, encoding='utf-16', dtype=int)\n",
    "data"
   ]
  },
  {
   "cell_type": "code",
   "execution_count": 8,
   "metadata": {},
   "outputs": [
    {
     "data": {
      "text/plain": [
       "Counter({0: 2673, 1: 454, 2: 169})"
      ]
     },
     "execution_count": 8,
     "metadata": {},
     "output_type": "execute_result"
    }
   ],
   "source": [
    "Counter(data['demande_de_support'])"
   ]
  },
  {
   "cell_type": "code",
   "execution_count": 9,
   "metadata": {},
   "outputs": [
    {
     "data": {
      "text/plain": [
       "dtm          65.975719\n",
       "cr           46.003782\n",
       "tr           37.586343\n",
       "support      35.467086\n",
       "mutuel       26.953281\n",
       "               ...    \n",
       "assigner      0.000303\n",
       "lafabriqu     0.000303\n",
       "hautier       0.000303\n",
       "25am          0.000303\n",
       "octroi        0.000303\n",
       "Length: 10360, dtype: float64"
      ]
     },
     "execution_count": 9,
     "metadata": {},
     "output_type": "execute_result"
    }
   ],
   "source": [
    "data.var().sort_values(ascending = False)"
   ]
  },
  {
   "cell_type": "code",
   "execution_count": 15,
   "metadata": {},
   "outputs": [
    {
     "name": "stderr",
     "output_type": "stream",
     "text": [
      "C:\\Users\\le_paumier-m\\Anaconda3\\lib\\site-packages\\seaborn\\_decorators.py:36: FutureWarning: Pass the following variables as keyword args: x, y. From version 0.12, the only valid positional argument will be `data`, and passing other arguments without an explicit keyword will result in an error or misinterpretation.\n",
      "  warnings.warn(\n"
     ]
    },
    {
     "data": {
      "text/plain": [
       "<AxesSubplot:xlabel='support', ylabel='mutuel'>"
      ]
     },
     "execution_count": 15,
     "metadata": {},
     "output_type": "execute_result"
    },
    {
     "data": {
      "image/png": "[encoded data removed]",
      "text/plain": [
       "<Figure size 432x288 with 1 Axes>"
      ]
     },
     "metadata": {},
     "output_type": "display_data"
    }
   ],
   "source": [
    "sns.scatterplot(data.support, data.mutuel, hue = data.demande_de_support)"
   ]
  },
  {
   "cell_type": "markdown",
   "metadata": {},
   "source": [
    "## KMeans et apprentissage semi-supervisé"
   ]
  },
  {
   "cell_type": "code",
   "execution_count": 41,
   "metadata": {},
   "outputs": [],
   "source": [
    "import numpy as np\n",
    "import matplotlib.pyplot as plt\n",
    "from sklearn.pipeline import make_pipeline\n",
    "from sklearn.model_selection import train_test_split\n",
    "import pickle\n",
    "plt.style.use('ggplot')"
   ]
  },
  {
   "cell_type": "code",
   "execution_count": 18,
   "metadata": {},
   "outputs": [],
   "source": [
    "X_unlabeled = data.loc[data[\"demande_de_support\"] == 2].drop(columns=['demande_de_support'])\n",
    "X = data.loc[data[\"demande_de_support\"] != 2].drop(columns=['demande_de_support'])\n",
    "y = pd.Series(data.loc[data[\"demande_de_support\"] != 2]['demande_de_support'], dtype=int)"
   ]
  },
  {
   "cell_type": "code",
   "execution_count": 19,
   "metadata": {},
   "outputs": [
    {
     "data": {
      "text/plain": [
       "0.7806176783812566"
      ]
     },
     "execution_count": 19,
     "metadata": {},
     "output_type": "execute_result"
    }
   ],
   "source": [
    "from sklearn.cluster import KMeans\n",
    "from sklearn.metrics import accuracy_score\n",
    "\n",
    "X_train, X_test, y_train, y_test = train_test_split(X, y, test_size=0.3)\n",
    "kmeans1 = KMeans(n_clusters=2)\n",
    "kmeans1.fit(X_train, y_train)\n",
    "\n",
    "y_pred = kmeans1.predict(X_test)\n",
    "accuracy_score(y_test,y_pred)"
   ]
  },
  {
   "cell_type": "code",
   "execution_count": 20,
   "metadata": {},
   "outputs": [
    {
     "name": "stdout",
     "output_type": "stream",
     "text": [
      "(3296, 10359) (3296,)\n"
     ]
    }
   ],
   "source": [
    "new_labels = kmeans1.predict(X_unlabeled)\n",
    "newX = np.vstack((X, X_unlabeled))\n",
    "newY = np.hstack((y, new_labels))\n",
    "\n",
    "print(newX.shape, newY.shape)"
   ]
  },
  {
   "cell_type": "markdown",
   "metadata": {},
   "source": [
    "# Construction d'un prédicteur"
   ]
  },
  {
   "cell_type": "markdown",
   "metadata": {},
   "source": [
    "## SVC"
   ]
  },
  {
   "cell_type": "code",
   "execution_count": 13,
   "metadata": {},
   "outputs": [],
   "source": [
    "from sklearn.svm import SVC\n",
    "from sklearn.model_selection import GridSearchCV\n",
    "\n",
    "X_train, X_test, y_train, y_test = train_test_split(newX, newY, test_size=0.2, random_state=90210)"
   ]
  },
  {
   "cell_type": "code",
   "execution_count": 48,
   "metadata": {},
   "outputs": [
    {
     "name": "stdout",
     "output_type": "stream",
     "text": [
      "{'C': 0.1325, 'class_weight': None, 'kernel': 'linear'}\n",
      "0.9192010235179116\n"
     ]
    }
   ],
   "source": [
    "gridCV = GridSearchCV(SVC(),\n",
    "    n_jobs=-1,\n",
    "    param_grid = {\n",
    "        'C' : [0.1325],\n",
    "        'kernel' : ['linear'],\n",
    "        #'degree' : [1, 2, 3, 4],\n",
    "        #'gamma' : ['scale', 'auto'] + list(np.linspace(0,2,3)),\n",
    "        #'coef0' : np.linspace(-2,2,5),\n",
    "        'class_weight' : ['balanced', None],\n",
    "        #'decision_function_shape' : ['ovo', 'ovr']\n",
    "    }\n",
    ")\n",
    "\n",
    "gridCV.fit(X_train, y_train)\n",
    "print(gridCV.best_params_)\n",
    "print(gridCV.best_score_)\n",
    "#{'C': 0.1, 'gamma': 'scale', 'kernel': 'linear'}"
   ]
  },
  {
   "cell_type": "code",
   "execution_count": 14,
   "metadata": {},
   "outputs": [
    {
     "data": {
      "text/plain": [
       "0.9151515151515152"
      ]
     },
     "execution_count": 14,
     "metadata": {},
     "output_type": "execute_result"
    }
   ],
   "source": [
    "model_svc = SVC(C=0.1325, kernel = 'linear')\n",
    "model_svc.fit(X_train, y_train)\n",
    "y_pred = model_svc.predict(X_test)\n",
    "accuracy_score(y_test, y_pred)"
   ]
  },
  {
   "cell_type": "markdown",
   "metadata": {},
   "source": [
    "On peut aussi accèder au score de chaque classe"
   ]
  },
  {
   "cell_type": "code",
   "execution_count": null,
   "metadata": {},
   "outputs": [],
   "source": [
    "model_svc.predict_proba(X_train)"
   ]
  },
  {
   "cell_type": "code",
   "execution_count": null,
   "metadata": {},
   "outputs": [],
   "source": [
    "filename = 'svc_c01325_lin.sav'\n",
    "with open(filename, 'wb') as file:\n",
    "    pickle.dump(model_svc, file)"
   ]
  },
  {
   "cell_type": "markdown",
   "metadata": {},
   "source": [
    "## Regression logistique"
   ]
  },
  {
   "cell_type": "code",
   "execution_count": 21,
   "metadata": {},
   "outputs": [],
   "source": [
    "from sklearn.linear_model import LogisticRegression\n",
    "X_train, X_test, y_train, y_test = train_test_split(newX, newY, test_size=0.2, random_state=90210)"
   ]
  },
  {
   "cell_type": "code",
   "execution_count": 31,
   "metadata": {},
   "outputs": [
    {
     "data": {
      "text/plain": [
       "LogisticRegression(C=1, solver='newton-cg')"
      ]
     },
     "execution_count": 31,
     "metadata": {},
     "output_type": "execute_result"
    }
   ],
   "source": [
    "LR = LogisticRegression(C=1, solver = 'newton-cg')\n",
    "LR.fit(X_train, y_train)"
   ]
  },
  {
   "cell_type": "code",
   "execution_count": 32,
   "metadata": {},
   "outputs": [
    {
     "data": {
      "text/plain": [
       "0.9181818181818182"
      ]
     },
     "execution_count": 32,
     "metadata": {},
     "output_type": "execute_result"
    }
   ],
   "source": [
    "y_pred = LR.predict(X_test)\n",
    "accuracy_score(y_test, y_pred)"
   ]
  },
  {
   "cell_type": "code",
   "execution_count": 36,
   "metadata": {},
   "outputs": [
    {
     "data": {
      "text/plain": [
       "array([[1.  , 0.  ],\n",
       "       [0.95, 0.05],\n",
       "       [0.04, 0.96],\n",
       "       ...,\n",
       "       [1.  , 0.  ],\n",
       "       [1.  , 0.  ],\n",
       "       [1.  , 0.  ]])"
      ]
     },
     "execution_count": 36,
     "metadata": {},
     "output_type": "execute_result"
    }
   ],
   "source": [
    "np.round(LR.predict_proba(X_train),2)"
   ]
  },
  {
   "cell_type": "code",
   "execution_count": 42,
   "metadata": {},
   "outputs": [],
   "source": [
    "filename = 'lr_c1_newtoncg.sav'\n",
    "with open(filename, 'wb') as file:\n",
    "    pickle.dump(LR, file)"
   ]
  },
  {
   "cell_type": "markdown",
   "metadata": {},
   "source": [
    "## Exemple de pipeline"
   ]
  },
  {
   "cell_type": "code",
   "execution_count": 15,
   "metadata": {},
   "outputs": [],
   "source": [
    "from lemmatization import lemmatizeText, initSpacy\n",
    "lemmatizer = initSpacy('fr_core_news_md')"
   ]
  },
  {
   "cell_type": "code",
   "execution_count": 33,
   "metadata": {},
   "outputs": [],
   "source": [
    "input_mail = \"\"\"\n",
    "    DRS - \n",
    "    Bonjour\n",
    "    j'ai un souci avec le décisionnel DECIBEL, il y a un problème de référenciel.\n",
    "\n",
    "    Cordialement,\n",
    "    Martin\n",
    "    \"\"\""
   ]
  },
  {
   "cell_type": "code",
   "execution_count": 29,
   "metadata": {},
   "outputs": [],
   "source": [
    "def pipeline(mail, model_file, schema, lemmatizer):\n",
    "    features = defaultdict(int)\n",
    "    features.update(lemmatizeText(mail, lemmatizer))\n",
    "    X = np.array([features[key] for key in schema]).reshape(1, -1)    \n",
    "    with open(model_file, 'rb') as file:\n",
    "        model = pickle.load(file)\n",
    "\n",
    "    try:\n",
    "        probas = model.predict_proba(X)[0]\n",
    "    except AttributeError:\n",
    "        probas = [None, None]\n",
    "    \n",
    "    y = model.predict(X)[0]\n",
    "    return {'predicted_class' : y, 'confidence' : probas[y], 'model' : model_file}"
   ]
  },
  {
   "cell_type": "code",
   "execution_count": 34,
   "metadata": {},
   "outputs": [
    {
     "data": {
      "text/plain": [
       "array([1])"
      ]
     },
     "execution_count": 34,
     "metadata": {},
     "output_type": "execute_result"
    }
   ],
   "source": [
    "model_file = 'lr_c1_newtoncg.sav'\n",
    "schema = X.columns.to_list()\n",
    "predicted_class = pipeline(input_mail, model_file, schema, lemmatizer)\n",
    "predicted_class"
   ]
  },
  {
   "cell_type": "markdown",
   "metadata": {},
   "source": [
    "to-do :\n",
    "\n",
    "* vote majoritaire entre plusieurs modèles\n",
    "* refit les modèles en infériorité numérique / refit périodiquement les moins bons modèles (p.r à un score de prédiction calculé sur la période)\n",
    "* gerer les cas douteux grace à la proba"
   ]
  }
 ],
 "metadata": {
  "interpreter": {
   "hash": "444ad55116b32659c86cf21366f06a0b6b15c21184a40d72a1d77ccdcbfe1879"
  },
  "kernelspec": {
   "display_name": "Python 3.8.8 64-bit ('base': conda)",
   "language": "python",
   "name": "python3"
  },
  "language_info": {
   "codemirror_mode": {
    "name": "ipython",
    "version": 3
   },
   "file_extension": ".py",
   "mimetype": "text/x-python",
   "name": "python",
   "nbconvert_exporter": "python",
   "pygments_lexer": "ipython3",
   "version": "3.8.8"
  },
  "orig_nbformat": 4
 },
 "nbformat": 4,
 "nbformat_minor": 2
}
