{
 "cells": [
  {
   "cell_type": "code",
   "execution_count": 1,
   "metadata": {},
   "outputs": [],
   "source": [
    "import pandas as pd\n",
    "import spacy, re\n",
    "import numpy as np\n",
    "from collections import Counter, defaultdict\n",
    "from unidecode import unidecode\n",
    "import seaborn as sns\n",
    "from lemmatization import ohe_df"
   ]
  },
  {
   "cell_type": "markdown",
   "metadata": {},
   "source": [
    "# One Hot Encoding"
   ]
  },
  {
   "cell_type": "code",
   "execution_count": null,
   "metadata": {},
   "outputs": [
    {
     "name": "stdout",
     "output_type": "stream",
     "text": [
      "(3407, 6)\n"
     ]
    },
    {
     "data": {
      "text/html": [
       "<div>\n",
       "<style scoped>\n",
       "    .dataframe tbody tr th:only-of-type {\n",
       "        vertical-align: middle;\n",
       "    }\n",
       "\n",
       "    .dataframe tbody tr th {\n",
       "        vertical-align: top;\n",
       "    }\n",
       "\n",
       "    .dataframe thead th {\n",
       "        text-align: right;\n",
       "    }\n",
       "</style>\n",
       "<table border=\"1\" class=\"dataframe\">\n",
       "  <thead>\n",
       "    <tr style=\"text-align: right;\">\n",
       "      <th></th>\n",
       "      <th>body</th>\n",
       "      <th>header</th>\n",
       "      <th>date</th>\n",
       "      <th>from</th>\n",
       "      <th>to</th>\n",
       "      <th>label</th>\n",
       "    </tr>\n",
       "  </thead>\n",
       "  <tbody>\n",
       "    <tr>\n",
       "      <th>0</th>\n",
       "      <td>yohan quand tu as le temps dis moi si c est cl...</td>\n",
       "      <td>1ère relecture gt conso</td>\n",
       "      <td>Fri, 29 May 2020 16:53:04 +0200</td>\n",
       "      <td>plonquet nadège</td>\n",
       "      <td>NaN</td>\n",
       "      <td>0</td>\n",
       "    </tr>\n",
       "    <tr>\n",
       "      <th>1</th>\n",
       "      <td>pour accepter la demande cliquez simplement su...</td>\n",
       "      <td>accepter</td>\n",
       "      <td>Mon, 16 Sep 2019 17:09:37 +0200</td>\n",
       "      <td>plonquet nadège</td>\n",
       "      <td>NaN</td>\n",
       "      <td>0</td>\n",
       "    </tr>\n",
       "    <tr>\n",
       "      <th>2</th>\n",
       "      <td>bonjour pouvez vous donner les accès à decibel...</td>\n",
       "      <td>acces decibel</td>\n",
       "      <td>Tue, 23 Mar 2021 13:44:07 +0100</td>\n",
       "      <td>guillaume veronique</td>\n",
       "      <td>NaN</td>\n",
       "      <td>1</td>\n",
       "    </tr>\n",
       "    <tr>\n",
       "      <th>3</th>\n",
       "      <td>comme ça ne fonctionne toujours pas sur mon po...</td>\n",
       "      <td>accès rec4 decibel sdw rec4 hm dm ad restituti...</td>\n",
       "      <td>Mon, 24 Feb 2020 14:28:57 +0100</td>\n",
       "      <td>gueniot bernard</td>\n",
       "      <td>NaN</td>\n",
       "      <td>1</td>\n",
       "    </tr>\n",
       "    <tr>\n",
       "      <th>4</th>\n",
       "      <td>tu sais ce que c est que ces actes qui n ont p...</td>\n",
       "      <td>actes indemnités hospitalières</td>\n",
       "      <td>Mon, 25 Mar 2019 11:25:36 +0100</td>\n",
       "      <td>levisse xavier</td>\n",
       "      <td>NaN</td>\n",
       "      <td>1</td>\n",
       "    </tr>\n",
       "  </tbody>\n",
       "</table>\n",
       "</div>"
      ],
      "text/plain": [
       "                                                body  \\\n",
       "0  yohan quand tu as le temps dis moi si c est cl...   \n",
       "1  pour accepter la demande cliquez simplement su...   \n",
       "2  bonjour pouvez vous donner les accès à decibel...   \n",
       "3  comme ça ne fonctionne toujours pas sur mon po...   \n",
       "4  tu sais ce que c est que ces actes qui n ont p...   \n",
       "\n",
       "                                              header  \\\n",
       "0                            1ère relecture gt conso   \n",
       "1                                           accepter   \n",
       "2                                      acces decibel   \n",
       "3  accès rec4 decibel sdw rec4 hm dm ad restituti...   \n",
       "4                     actes indemnités hospitalières   \n",
       "\n",
       "                              date                 from  to  label  \n",
       "0  Fri, 29 May 2020 16:53:04 +0200      plonquet nadège NaN      0  \n",
       "1  Mon, 16 Sep 2019 17:09:37 +0200      plonquet nadège NaN      0  \n",
       "2  Tue, 23 Mar 2021 13:44:07 +0100  guillaume veronique NaN      1  \n",
       "3  Mon, 24 Feb 2020 14:28:57 +0100      gueniot bernard NaN      1  \n",
       "4  Mon, 25 Mar 2019 11:25:36 +0100       levisse xavier NaN      1  "
      ]
     },
     "execution_count": 5,
     "metadata": {},
     "output_type": "execute_result"
    }
   ],
   "source": [
    "mails = pd.read_csv('data/mails_lemmatized.csv', index_col = 0, encoding='UTF-16', header=0, skipinitialspace=True, skip_blank_lines = True)\n",
    "print(mails.shape)\n",
    "mails.head()"
   ]
  },
  {
   "cell_type": "code",
   "execution_count": 6,
   "metadata": {},
   "outputs": [
    {
     "data": {
      "text/html": [
       "<div>\n",
       "<style scoped>\n",
       "    .dataframe tbody tr th:only-of-type {\n",
       "        vertical-align: middle;\n",
       "    }\n",
       "\n",
       "    .dataframe tbody tr th {\n",
       "        vertical-align: top;\n",
       "    }\n",
       "\n",
       "    .dataframe thead th {\n",
       "        text-align: right;\n",
       "    }\n",
       "</style>\n",
       "<table border=\"1\" class=\"dataframe\">\n",
       "  <thead>\n",
       "    <tr style=\"text-align: right;\">\n",
       "      <th></th>\n",
       "      <th>1ere</th>\n",
       "      <th>relecture</th>\n",
       "      <th>gt</th>\n",
       "      <th>consommation</th>\n",
       "      <th>yohan</th>\n",
       "      <th>temps</th>\n",
       "      <th>dire</th>\n",
       "      <th>clair</th>\n",
       "      <th>mettre</th>\n",
       "      <th>decibel</th>\n",
       "      <th>...</th>\n",
       "      <th>bulletin</th>\n",
       "      <th>digiposte</th>\n",
       "      <th>voltaire</th>\n",
       "      <th>alaoui</th>\n",
       "      <th>enora</th>\n",
       "      <th>samber</th>\n",
       "      <th>lanrivain</th>\n",
       "      <th>batard</th>\n",
       "      <th>leudet</th>\n",
       "      <th>demande_de_support</th>\n",
       "    </tr>\n",
       "  </thead>\n",
       "  <tbody>\n",
       "    <tr>\n",
       "      <th>0</th>\n",
       "      <td>1</td>\n",
       "      <td>1</td>\n",
       "      <td>1</td>\n",
       "      <td>1</td>\n",
       "      <td>1</td>\n",
       "      <td>1</td>\n",
       "      <td>1</td>\n",
       "      <td>1</td>\n",
       "      <td>2</td>\n",
       "      <td>1</td>\n",
       "      <td>...</td>\n",
       "      <td>0</td>\n",
       "      <td>0</td>\n",
       "      <td>0</td>\n",
       "      <td>0</td>\n",
       "      <td>0</td>\n",
       "      <td>0</td>\n",
       "      <td>0</td>\n",
       "      <td>0</td>\n",
       "      <td>0</td>\n",
       "      <td>0</td>\n",
       "    </tr>\n",
       "    <tr>\n",
       "      <th>1</th>\n",
       "      <td>0</td>\n",
       "      <td>0</td>\n",
       "      <td>0</td>\n",
       "      <td>0</td>\n",
       "      <td>0</td>\n",
       "      <td>0</td>\n",
       "      <td>0</td>\n",
       "      <td>0</td>\n",
       "      <td>0</td>\n",
       "      <td>0</td>\n",
       "      <td>...</td>\n",
       "      <td>0</td>\n",
       "      <td>0</td>\n",
       "      <td>0</td>\n",
       "      <td>0</td>\n",
       "      <td>0</td>\n",
       "      <td>0</td>\n",
       "      <td>0</td>\n",
       "      <td>0</td>\n",
       "      <td>0</td>\n",
       "      <td>0</td>\n",
       "    </tr>\n",
       "    <tr>\n",
       "      <th>2</th>\n",
       "      <td>0</td>\n",
       "      <td>0</td>\n",
       "      <td>0</td>\n",
       "      <td>0</td>\n",
       "      <td>0</td>\n",
       "      <td>0</td>\n",
       "      <td>0</td>\n",
       "      <td>0</td>\n",
       "      <td>0</td>\n",
       "      <td>2</td>\n",
       "      <td>...</td>\n",
       "      <td>0</td>\n",
       "      <td>0</td>\n",
       "      <td>0</td>\n",
       "      <td>0</td>\n",
       "      <td>0</td>\n",
       "      <td>0</td>\n",
       "      <td>0</td>\n",
       "      <td>0</td>\n",
       "      <td>0</td>\n",
       "      <td>1</td>\n",
       "    </tr>\n",
       "    <tr>\n",
       "      <th>3</th>\n",
       "      <td>0</td>\n",
       "      <td>0</td>\n",
       "      <td>0</td>\n",
       "      <td>0</td>\n",
       "      <td>0</td>\n",
       "      <td>0</td>\n",
       "      <td>0</td>\n",
       "      <td>0</td>\n",
       "      <td>0</td>\n",
       "      <td>1</td>\n",
       "      <td>...</td>\n",
       "      <td>0</td>\n",
       "      <td>0</td>\n",
       "      <td>0</td>\n",
       "      <td>0</td>\n",
       "      <td>0</td>\n",
       "      <td>0</td>\n",
       "      <td>0</td>\n",
       "      <td>0</td>\n",
       "      <td>0</td>\n",
       "      <td>1</td>\n",
       "    </tr>\n",
       "    <tr>\n",
       "      <th>4</th>\n",
       "      <td>0</td>\n",
       "      <td>0</td>\n",
       "      <td>0</td>\n",
       "      <td>0</td>\n",
       "      <td>0</td>\n",
       "      <td>0</td>\n",
       "      <td>0</td>\n",
       "      <td>0</td>\n",
       "      <td>0</td>\n",
       "      <td>0</td>\n",
       "      <td>...</td>\n",
       "      <td>0</td>\n",
       "      <td>0</td>\n",
       "      <td>0</td>\n",
       "      <td>0</td>\n",
       "      <td>0</td>\n",
       "      <td>0</td>\n",
       "      <td>0</td>\n",
       "      <td>0</td>\n",
       "      <td>0</td>\n",
       "      <td>1</td>\n",
       "    </tr>\n",
       "    <tr>\n",
       "      <th>...</th>\n",
       "      <td>...</td>\n",
       "      <td>...</td>\n",
       "      <td>...</td>\n",
       "      <td>...</td>\n",
       "      <td>...</td>\n",
       "      <td>...</td>\n",
       "      <td>...</td>\n",
       "      <td>...</td>\n",
       "      <td>...</td>\n",
       "      <td>...</td>\n",
       "      <td>...</td>\n",
       "      <td>...</td>\n",
       "      <td>...</td>\n",
       "      <td>...</td>\n",
       "      <td>...</td>\n",
       "      <td>...</td>\n",
       "      <td>...</td>\n",
       "      <td>...</td>\n",
       "      <td>...</td>\n",
       "      <td>...</td>\n",
       "      <td>...</td>\n",
       "    </tr>\n",
       "    <tr>\n",
       "      <th>3402</th>\n",
       "      <td>0</td>\n",
       "      <td>0</td>\n",
       "      <td>0</td>\n",
       "      <td>0</td>\n",
       "      <td>0</td>\n",
       "      <td>0</td>\n",
       "      <td>0</td>\n",
       "      <td>0</td>\n",
       "      <td>0</td>\n",
       "      <td>0</td>\n",
       "      <td>...</td>\n",
       "      <td>0</td>\n",
       "      <td>0</td>\n",
       "      <td>0</td>\n",
       "      <td>0</td>\n",
       "      <td>0</td>\n",
       "      <td>0</td>\n",
       "      <td>0</td>\n",
       "      <td>0</td>\n",
       "      <td>0</td>\n",
       "      <td>0</td>\n",
       "    </tr>\n",
       "    <tr>\n",
       "      <th>3403</th>\n",
       "      <td>0</td>\n",
       "      <td>0</td>\n",
       "      <td>0</td>\n",
       "      <td>0</td>\n",
       "      <td>0</td>\n",
       "      <td>0</td>\n",
       "      <td>0</td>\n",
       "      <td>0</td>\n",
       "      <td>1</td>\n",
       "      <td>0</td>\n",
       "      <td>...</td>\n",
       "      <td>0</td>\n",
       "      <td>0</td>\n",
       "      <td>0</td>\n",
       "      <td>0</td>\n",
       "      <td>0</td>\n",
       "      <td>0</td>\n",
       "      <td>0</td>\n",
       "      <td>0</td>\n",
       "      <td>0</td>\n",
       "      <td>0</td>\n",
       "    </tr>\n",
       "    <tr>\n",
       "      <th>3404</th>\n",
       "      <td>0</td>\n",
       "      <td>0</td>\n",
       "      <td>0</td>\n",
       "      <td>0</td>\n",
       "      <td>0</td>\n",
       "      <td>0</td>\n",
       "      <td>0</td>\n",
       "      <td>0</td>\n",
       "      <td>0</td>\n",
       "      <td>0</td>\n",
       "      <td>...</td>\n",
       "      <td>0</td>\n",
       "      <td>0</td>\n",
       "      <td>0</td>\n",
       "      <td>0</td>\n",
       "      <td>0</td>\n",
       "      <td>0</td>\n",
       "      <td>0</td>\n",
       "      <td>0</td>\n",
       "      <td>0</td>\n",
       "      <td>0</td>\n",
       "    </tr>\n",
       "    <tr>\n",
       "      <th>3405</th>\n",
       "      <td>0</td>\n",
       "      <td>0</td>\n",
       "      <td>0</td>\n",
       "      <td>0</td>\n",
       "      <td>0</td>\n",
       "      <td>1</td>\n",
       "      <td>1</td>\n",
       "      <td>0</td>\n",
       "      <td>2</td>\n",
       "      <td>0</td>\n",
       "      <td>...</td>\n",
       "      <td>3</td>\n",
       "      <td>1</td>\n",
       "      <td>1</td>\n",
       "      <td>0</td>\n",
       "      <td>0</td>\n",
       "      <td>0</td>\n",
       "      <td>0</td>\n",
       "      <td>0</td>\n",
       "      <td>0</td>\n",
       "      <td>0</td>\n",
       "    </tr>\n",
       "    <tr>\n",
       "      <th>3406</th>\n",
       "      <td>0</td>\n",
       "      <td>0</td>\n",
       "      <td>0</td>\n",
       "      <td>0</td>\n",
       "      <td>0</td>\n",
       "      <td>0</td>\n",
       "      <td>0</td>\n",
       "      <td>0</td>\n",
       "      <td>0</td>\n",
       "      <td>0</td>\n",
       "      <td>...</td>\n",
       "      <td>0</td>\n",
       "      <td>0</td>\n",
       "      <td>0</td>\n",
       "      <td>1</td>\n",
       "      <td>1</td>\n",
       "      <td>1</td>\n",
       "      <td>1</td>\n",
       "      <td>1</td>\n",
       "      <td>1</td>\n",
       "      <td>2</td>\n",
       "    </tr>\n",
       "  </tbody>\n",
       "</table>\n",
       "<p>3407 rows × 10827 columns</p>\n",
       "</div>"
      ],
      "text/plain": [
       "      1ere  relecture  gt  consommation  yohan  temps  dire  clair  mettre  \\\n",
       "0        1          1   1             1      1      1     1      1       2   \n",
       "1        0          0   0             0      0      0     0      0       0   \n",
       "2        0          0   0             0      0      0     0      0       0   \n",
       "3        0          0   0             0      0      0     0      0       0   \n",
       "4        0          0   0             0      0      0     0      0       0   \n",
       "...    ...        ...  ..           ...    ...    ...   ...    ...     ...   \n",
       "3402     0          0   0             0      0      0     0      0       0   \n",
       "3403     0          0   0             0      0      0     0      0       1   \n",
       "3404     0          0   0             0      0      0     0      0       0   \n",
       "3405     0          0   0             0      0      1     1      0       2   \n",
       "3406     0          0   0             0      0      0     0      0       0   \n",
       "\n",
       "      decibel  ...  bulletin  digiposte  voltaire  alaoui  enora  samber  \\\n",
       "0           1  ...         0          0         0       0      0       0   \n",
       "1           0  ...         0          0         0       0      0       0   \n",
       "2           2  ...         0          0         0       0      0       0   \n",
       "3           1  ...         0          0         0       0      0       0   \n",
       "4           0  ...         0          0         0       0      0       0   \n",
       "...       ...  ...       ...        ...       ...     ...    ...     ...   \n",
       "3402        0  ...         0          0         0       0      0       0   \n",
       "3403        0  ...         0          0         0       0      0       0   \n",
       "3404        0  ...         0          0         0       0      0       0   \n",
       "3405        0  ...         3          1         1       0      0       0   \n",
       "3406        0  ...         0          0         0       1      1       1   \n",
       "\n",
       "      lanrivain  batard  leudet  demande_de_support  \n",
       "0             0       0       0                   0  \n",
       "1             0       0       0                   0  \n",
       "2             0       0       0                   1  \n",
       "3             0       0       0                   1  \n",
       "4             0       0       0                   1  \n",
       "...         ...     ...     ...                 ...  \n",
       "3402          0       0       0                   0  \n",
       "3403          0       0       0                   0  \n",
       "3404          0       0       0                   0  \n",
       "3405          0       0       0                   0  \n",
       "3406          1       1       1                   2  \n",
       "\n",
       "[3407 rows x 10827 columns]"
      ]
     },
     "execution_count": 6,
     "metadata": {},
     "output_type": "execute_result"
    }
   ],
   "source": [
    "data = ohe_df(mails)\n",
    "data"
   ]
  },
  {
   "cell_type": "code",
   "execution_count": 7,
   "metadata": {},
   "outputs": [
    {
     "data": {
      "text/plain": [
       "Counter({0: 2755, 1: 455, 2: 197})"
      ]
     },
     "execution_count": 7,
     "metadata": {},
     "output_type": "execute_result"
    }
   ],
   "source": [
    "Counter(data['demande_de_support'])"
   ]
  },
  {
   "cell_type": "code",
   "execution_count": 9,
   "metadata": {},
   "outputs": [],
   "source": [
    "data.to_csv('data/mails_ohe.csv')"
   ]
  },
  {
   "cell_type": "markdown",
   "metadata": {},
   "source": [
    "## Apprentissage semi-supervisé"
   ]
  },
  {
   "cell_type": "code",
   "execution_count": 5,
   "metadata": {},
   "outputs": [],
   "source": [
    "import numpy as np\n",
    "import matplotlib.pyplot as plt\n",
    "from sklearn.metrics import accuracy_score\n",
    "from sklearn.model_selection import train_test_split\n",
    "import pickle\n",
    "plt.style.use('ggplot')"
   ]
  },
  {
   "cell_type": "code",
   "execution_count": 10,
   "metadata": {},
   "outputs": [],
   "source": [
    "X_unlabeled = data.loc[data[\"demande_de_support\"] == 2].drop(columns=['demande_de_support'])\n",
    "X = data.loc[data[\"demande_de_support\"] != 2].drop(columns=['demande_de_support'])\n",
    "y = pd.Series(data.loc[data[\"demande_de_support\"] != 2]['demande_de_support'], dtype=int)"
   ]
  },
  {
   "cell_type": "code",
   "execution_count": 8,
   "metadata": {},
   "outputs": [
    {
     "data": {
      "text/plain": [
       "0.7870074547390842"
      ]
     },
     "execution_count": 8,
     "metadata": {},
     "output_type": "execute_result"
    }
   ],
   "source": [
    "from sklearn.cluster import KMeans\n",
    "\n",
    "X_train, X_test, y_train, y_test = train_test_split(X, y, test_size=0.3)\n",
    "kmeans1 = KMeans(n_clusters=2)\n",
    "kmeans1.fit(X_train, y_train)\n",
    "\n",
    "y_pred = kmeans1.predict(X_test)\n",
    "accuracy_score(y_test,y_pred)"
   ]
  },
  {
   "cell_type": "code",
   "execution_count": 9,
   "metadata": {},
   "outputs": [
    {
     "data": {
      "text/plain": [
       "0.9126730564430245"
      ]
     },
     "execution_count": 9,
     "metadata": {},
     "output_type": "execute_result"
    }
   ],
   "source": [
    "from sklearn.svm import SVC\n",
    "\n",
    "X_train, X_test, y_train, y_test = train_test_split(X, y, test_size=0.3)\n",
    "model_svc = SVC(C=0.1325, kernel = 'linear')\n",
    "model_svc.fit(X_train, y_train)\n",
    "\n",
    "y_pred = model_svc.predict(X_test)\n",
    "accuracy_score(y_test, y_pred)"
   ]
  },
  {
   "cell_type": "code",
   "execution_count": 11,
   "metadata": {},
   "outputs": [
    {
     "data": {
      "text/plain": [
       "0.9137380191693291"
      ]
     },
     "execution_count": 11,
     "metadata": {},
     "output_type": "execute_result"
    }
   ],
   "source": [
    "from sklearn.linear_model import LogisticRegression\n",
    "\n",
    "X_train, X_test, y_train, y_test = train_test_split(X, y, test_size=0.2)\n",
    "LR = LogisticRegression(C=1, solver = 'newton-cg')\n",
    "LR.fit(X_train, y_train)\n",
    "y_pred = LR.predict(X_test)\n",
    "accuracy_score(y_test, y_pred)"
   ]
  },
  {
   "cell_type": "markdown",
   "metadata": {},
   "source": [
    "### Prédiction des labels manquants"
   ]
  },
  {
   "cell_type": "code",
   "execution_count": 13,
   "metadata": {},
   "outputs": [
    {
     "name": "stdout",
     "output_type": "stream",
     "text": [
      "(3127, 10359) (169, 10359)\n",
      "(3271, 10359) (25, 10359) 0.8\n",
      "(3274, 10359) (22, 10359) 0.8\n",
      "(3274, 10359) (22, 10359) 0.8\n"
     ]
    }
   ],
   "source": [
    "#estimator = SVC(C=0.1325, kernel = 'linear', probability = True)\n",
    "estimator = LogisticRegression(C=1, solver = 'newton-cg')\n",
    "X_unlabeled_copy = X_unlabeled.copy()\n",
    "newX = X\n",
    "newY = y\n",
    "threshold = 0.9\n",
    "print(newX.shape, X_unlabeled_copy.shape)\n",
    "while not X_unlabeled_copy.empty:\n",
    "\n",
    "    estimator.fit(newX, newY)\n",
    "    y_pred = estimator.predict(X_unlabeled_copy)\n",
    "    y_prob = estimator.predict_proba(X_unlabeled_copy)\n",
    "    X_unlabeled_copy['_pred_'] = y_pred\n",
    "    X_unlabeled_copy['_prob_'] = [y_prob[k,y_pred[k]] for k in range(len(y_pred))]\n",
    "    confident_pred = X_unlabeled_copy[X_unlabeled_copy['_prob_'] >= threshold]\n",
    "    X_unlabeled_copy = X_unlabeled_copy[X_unlabeled_copy['_prob_'] < threshold].drop(['_pred_', '_prob_'], axis = 1)\n",
    "    newX = pd.concat([newX, confident_pred.drop(['_pred_', '_prob_'], axis = 1)], ignore_index = True)\n",
    "    newY = pd.concat([newY, confident_pred['_pred_']], ignore_index = True)\n",
    "    print(newX.shape, X_unlabeled_copy.shape, threshold)\n",
    "\n",
    "    if len(confident_pred)==0:\n",
    "        break"
   ]
  },
  {
   "cell_type": "markdown",
   "metadata": {},
   "source": [
    "# Catégorisation des mails"
   ]
  },
  {
   "cell_type": "code",
   "execution_count": 96,
   "metadata": {},
   "outputs": [
    {
     "data": {
      "text/plain": [
       "0.7367886178861789"
      ]
     },
     "execution_count": 96,
     "metadata": {},
     "output_type": "execute_result"
    }
   ],
   "source": [
    "X_train, X_test, y_train, y_test = train_test_split(newX, newY, test_size=0.3)\n",
    "kmeans1 = KMeans(n_clusters=2)\n",
    "kmeans1.fit(X_train, y_train)\n",
    "\n",
    "y_pred = kmeans1.predict(X_test)\n",
    "accuracy_score(y_test,y_pred)"
   ]
  },
  {
   "cell_type": "code",
   "execution_count": 97,
   "metadata": {},
   "outputs": [
    {
     "data": {
      "text/plain": [
       "0.9054878048780488"
      ]
     },
     "execution_count": 97,
     "metadata": {},
     "output_type": "execute_result"
    }
   ],
   "source": [
    "X_train, X_test, y_train, y_test = train_test_split(newX, newY, test_size=0.3)\n",
    "model_svc = SVC(C=0.1325, kernel = 'linear')\n",
    "model_svc.fit(X_train, y_train)\n",
    "\n",
    "y_pred = model_svc.predict(X_test)\n",
    "accuracy_score(y_test, y_pred)"
   ]
  },
  {
   "cell_type": "code",
   "execution_count": 101,
   "metadata": {},
   "outputs": [
    {
     "data": {
      "text/plain": [
       "0.9105691056910569"
      ]
     },
     "execution_count": 101,
     "metadata": {},
     "output_type": "execute_result"
    }
   ],
   "source": [
    "X_train, X_test, y_train, y_test = train_test_split(newX, newY, test_size=0.3)\n",
    "LR = LogisticRegression(C=1, solver = 'newton-cg')\n",
    "LR.fit(X_train, y_train)\n",
    "y_pred = LR.predict(X_test)\n",
    "accuracy_score(y_test, y_pred)"
   ]
  },
  {
   "cell_type": "markdown",
   "metadata": {},
   "source": [
    "## Optimisation des modèles"
   ]
  },
  {
   "cell_type": "code",
   "execution_count": 48,
   "metadata": {},
   "outputs": [
    {
     "name": "stdout",
     "output_type": "stream",
     "text": [
      "{'C': 0.1325, 'class_weight': None, 'kernel': 'linear'}\n",
      "0.9192010235179116\n"
     ]
    }
   ],
   "source": [
    "from sklearn.model_selection import GridSearchCV\n",
    "X_train, X_test, y_train, y_test = train_test_split(newX, newY, test_size=0.3)\n",
    "\n",
    "gridCV = GridSearchCV(SVC(),\n",
    "    n_jobs=-1,\n",
    "    param_grid = {\n",
    "        'C' : [0.1325],\n",
    "        'kernel' : ['linear'],\n",
    "        #'degree' : [1, 2, 3, 4],\n",
    "        #'gamma' : ['scale', 'auto'] + list(np.linspace(0,2,3)),\n",
    "        #'coef0' : np.linspace(-2,2,5),\n",
    "        'class_weight' : ['balanced', None],\n",
    "        #'decision_function_shape' : ['ovo', 'ovr']\n",
    "    }\n",
    ")\n",
    "\n",
    "gridCV.fit(X_train, y_train)\n",
    "print(gridCV.best_params_)\n",
    "print(gridCV.best_score_)\n",
    "#{'C': 0.1325, 'class_weight': None, 'kernel': 'linear'}"
   ]
  },
  {
   "cell_type": "code",
   "execution_count": 105,
   "metadata": {},
   "outputs": [
    {
     "data": {
      "text/plain": [
       "0.9105691056910569"
      ]
     },
     "execution_count": 105,
     "metadata": {},
     "output_type": "execute_result"
    }
   ],
   "source": [
    "model_svc = SVC(C=0.1325, kernel = 'linear')\n",
    "model_svc.fit(X_train, y_train)\n",
    "y_pred = model_svc.predict(X_test)\n",
    "accuracy_score(y_test, y_pred)"
   ]
  },
  {
   "cell_type": "code",
   "execution_count": null,
   "metadata": {},
   "outputs": [],
   "source": [
    "filename = 'svc_c01325_lin.sav'\n",
    "with open(filename, 'wb') as file:\n",
    "    pickle.dump(model_svc, file)"
   ]
  },
  {
   "cell_type": "code",
   "execution_count": null,
   "metadata": {},
   "outputs": [],
   "source": [
    "from sklearn.model_selection import GridSearchCV\n",
    "X_train, X_test, y_train, y_test = train_test_split(newX, newY, test_size=0.3)\n",
    "\n",
    "gridCV2 = GridSearchCV(LogisticRegression(),\n",
    "    n_jobs=-1,\n",
    "    param_grid = {\n",
    "'penalty' : ['l1', 'l2', 'elasticnet', 'none'],\n",
    "'dual' : [False, True],\n",
    "'C' : np.linspace(0.0001,3, 10),\n",
    "'fit_intercept' : [True, False],\n",
    "'class_weight' : [None, 'balanced'],\n",
    "'solver' : ['newton-cg', 'lbfgs', 'liblinear', 'sag', 'saga'],\n",
    "'warm_start' : [True],\n",
    "'l1_ratio' : [0, 0.5, 1]\n",
    "    }\n",
    ")\n",
    "\n",
    "gridCV2.fit(X_train, y_train)\n",
    "print(gridCV2.best_params_)\n",
    "print(gridCV2.best_score_)\n",
    "#{'C': 0.3334222222222222, 'class_weight': None, 'dual': False, 'fit_intercept': False, 'l1_ratio': 0, 'penalty': 'l1', 'solver': 'liblinear', 'warm_start': True}\n",
    "#0.91"
   ]
  },
  {
   "cell_type": "code",
   "execution_count": 24,
   "metadata": {},
   "outputs": [
    {
     "name": "stderr",
     "output_type": "stream",
     "text": [
      "C:\\Users\\le_paumier-m\\Anaconda3\\lib\\site-packages\\sklearn\\svm\\_base.py:985: ConvergenceWarning: Liblinear failed to converge, increase the number of iterations.\n",
      "  warnings.warn(\"Liblinear failed to converge, increase \"\n"
     ]
    },
    {
     "data": {
      "text/plain": [
       "0.9196337741607324"
      ]
     },
     "execution_count": 24,
     "metadata": {},
     "output_type": "execute_result"
    }
   ],
   "source": [
    "X_train, X_test, y_train, y_test = train_test_split(newX, newY, test_size=0.3)\n",
    "LR = LogisticRegression(C = 0.3334222222222222, class_weight = None, dual = True, fit_intercept = False, \n",
    "                        solver = 'liblinear', warm_start = True)\n",
    "LR.fit(X_train, y_train)\n",
    "y_pred = LR.predict(X_test)\n",
    "accuracy_score(y_test, y_pred)"
   ]
  },
  {
   "cell_type": "code",
   "execution_count": 116,
   "metadata": {},
   "outputs": [],
   "source": [
    "filename = 'lr_c033_liblinear_dual.sav'\n",
    "with open(filename, 'wb') as file:\n",
    "    pickle.dump(LR, file)"
   ]
  },
  {
   "cell_type": "code",
   "execution_count": 26,
   "metadata": {},
   "outputs": [
    {
     "name": "stderr",
     "output_type": "stream",
     "text": [
      "C:\\Users\\le_paumier-m\\Anaconda3\\lib\\site-packages\\sklearn\\svm\\_base.py:985: ConvergenceWarning: Liblinear failed to converge, increase the number of iterations.\n",
      "  warnings.warn(\"Liblinear failed to converge, increase \"\n"
     ]
    },
    {
     "data": {
      "text/plain": [
       "0.9116080937167199"
      ]
     },
     "execution_count": 26,
     "metadata": {},
     "output_type": "execute_result"
    }
   ],
   "source": [
    "X_train, X_test, y_train, y_test = train_test_split(X, y, test_size=0.3)\n",
    "LR = LogisticRegression(C = 0.3334222222222222, class_weight = None, dual = True, fit_intercept = False, \n",
    "                        solver = 'liblinear', warm_start = True)\n",
    "LR.fit(X_train, y_train)\n",
    "y_pred = LR.predict(X_test)\n",
    "accuracy_score(y_test, y_pred)"
   ]
  },
  {
   "cell_type": "markdown",
   "metadata": {},
   "source": [
    "Sur ces méthodes de machine learning classique, l'extension du dataset à partir des données non-labellisées ne produit pas une grande amélioration des performances, ce sera plus flagrant lorsqu'on passera à des méthodes de Deep Learning"
   ]
  },
  {
   "cell_type": "markdown",
   "metadata": {},
   "source": [
    "## Prédiction des probabilités"
   ]
  },
  {
   "cell_type": "code",
   "execution_count": 117,
   "metadata": {},
   "outputs": [
    {
     "data": {
      "text/plain": [
       "array([[0.99, 0.01],\n",
       "       [0.78, 0.22],\n",
       "       [0.14, 0.86],\n",
       "       ...,\n",
       "       [0.94, 0.06],\n",
       "       [0.98, 0.02],\n",
       "       [0.66, 0.34]])"
      ]
     },
     "execution_count": 117,
     "metadata": {},
     "output_type": "execute_result"
    }
   ],
   "source": [
    "np.round(LR.predict_proba(newX),2)"
   ]
  },
  {
   "cell_type": "markdown",
   "metadata": {},
   "source": [
    "## Exemple de pipeline"
   ]
  },
  {
   "cell_type": "code",
   "execution_count": 15,
   "metadata": {},
   "outputs": [],
   "source": [
    "from onehotencoder import countLemmas, initSpacy\n",
    "lemmatizer = initSpacy('fr_core_news_md')"
   ]
  },
  {
   "cell_type": "code",
   "execution_count": 33,
   "metadata": {},
   "outputs": [],
   "source": [
    "input_mail = \"\"\"\n",
    "    DRS - \n",
    "    Bonjour\n",
    "    j'ai un souci avec le décisionnel DECIBEL, il y a un problème de référenciel.\n",
    "\n",
    "    Cordialement,\n",
    "    Martin\n",
    "    \"\"\""
   ]
  },
  {
   "cell_type": "code",
   "execution_count": 29,
   "metadata": {},
   "outputs": [],
   "source": [
    "def pipeline(mail, model_file, schema, lemmatizer):\n",
    "    features = defaultdict(int)\n",
    "    features.update(countLemmas(mail, lemmatizer))\n",
    "    X = np.array([features[key] for key in schema]).reshape(1, -1)    \n",
    "    with open(model_file, 'rb') as file:\n",
    "        model = pickle.load(file)\n",
    "\n",
    "    try:\n",
    "        probas = model.predict_proba(X)[0]\n",
    "    except AttributeError:\n",
    "        probas = [None, None]\n",
    "    \n",
    "    y = model.predict(X)[0]\n",
    "    return {'predicted_class' : y, 'confidence' : probas[y], 'model' : model_file}"
   ]
  },
  {
   "cell_type": "code",
   "execution_count": 34,
   "metadata": {},
   "outputs": [
    {
     "data": {
      "text/plain": [
       "array([1])"
      ]
     },
     "execution_count": 34,
     "metadata": {},
     "output_type": "execute_result"
    }
   ],
   "source": [
    "model_file = 'lr_c1_newtoncg.sav'\n",
    "schema = X.columns.to_list()\n",
    "predicted_class = pipeline(input_mail, model_file, schema, lemmatizer)\n",
    "predicted_class"
   ]
  },
  {
   "cell_type": "markdown",
   "metadata": {},
   "source": [
    "to-do :\n",
    "\n",
    "* vote majoritaire entre plusieurs modèles\n",
    "* refit les modèles en infériorité numérique / refit périodiquement les moins bons modèles (p.r à un score de prédiction calculé sur la période)\n",
    "* gerer les cas douteux grace à la proba\n",
    "* LSTM / biLSTM\n",
    "* Transformers"
   ]
  }
 ],
 "metadata": {
  "interpreter": {
   "hash": "444ad55116b32659c86cf21366f06a0b6b15c21184a40d72a1d77ccdcbfe1879"
  },
  "kernelspec": {
   "display_name": "Python 3.8.8 64-bit ('base': conda)",
   "language": "python",
   "name": "python3"
  },
  "language_info": {
   "codemirror_mode": {
    "name": "ipython",
    "version": 3
   },
   "file_extension": ".py",
   "mimetype": "text/x-python",
   "name": "python",
   "nbconvert_exporter": "python",
   "pygments_lexer": "ipython3",
   "version": "3.8.8"
  },
  "orig_nbformat": 4
 },
 "nbformat": 4,
 "nbformat_minor": 2
}
