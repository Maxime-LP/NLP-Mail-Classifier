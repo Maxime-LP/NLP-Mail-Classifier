{
 "cells": [
  {
   "cell_type": "code",
   "execution_count": 1,
   "metadata": {},
   "outputs": [],
   "source": [
    "from melusine.nlp_tools.embedding import Embedding\n",
    "import pandas as pd\n",
    "from melusine.models.neural_architectures import cnn_model, rnn_model, transformers_model, bert_model\n",
    "from melusine.models.train import NeuralModel\n",
    "from sklearn.metrics import classification_report\n",
    "from sklearn.model_selection import ShuffleSplit, cross_validate\n",
    "import numpy as np\n",
    "from collections import Counter\n",
    "from gensim.models.keyedvectors import KeyedVectors\n",
    "import warnings\n",
    "import joblib\n",
    "np.random.seed(42)\n",
    "warnings.simplefilter('ignore')"
   ]
  },
  {
   "cell_type": "code",
   "execution_count": 2,
   "metadata": {},
   "outputs": [
    {
     "data": {
      "text/html": [
       "<div>\n",
       "<style scoped>\n",
       "    .dataframe tbody tr th:only-of-type {\n",
       "        vertical-align: middle;\n",
       "    }\n",
       "\n",
       "    .dataframe tbody tr th {\n",
       "        vertical-align: top;\n",
       "    }\n",
       "\n",
       "    .dataframe thead th {\n",
       "        text-align: right;\n",
       "    }\n",
       "</style>\n",
       "<table border=\"1\" class=\"dataframe\">\n",
       "  <thead>\n",
       "    <tr style=\"text-align: right;\">\n",
       "      <th></th>\n",
       "      <th>from</th>\n",
       "      <th>label</th>\n",
       "      <th>text</th>\n",
       "      <th>_questionmark_count_</th>\n",
       "      <th>text_lem</th>\n",
       "      <th>_AJD_count_</th>\n",
       "      <th>_ADP_count_</th>\n",
       "      <th>_ADV_count_</th>\n",
       "      <th>_AUX_count_</th>\n",
       "      <th>_CCONJ_count_</th>\n",
       "      <th>...</th>\n",
       "      <th>_NOUN_count_</th>\n",
       "      <th>_NUM_count_</th>\n",
       "      <th>_PRON_count_</th>\n",
       "      <th>_PROPN_count_</th>\n",
       "      <th>_PUNCT_count_</th>\n",
       "      <th>_SCONJ_count_</th>\n",
       "      <th>_SYM_count_</th>\n",
       "      <th>_VERB_count_</th>\n",
       "      <th>_X_count_</th>\n",
       "      <th>unique_words_count</th>\n",
       "    </tr>\n",
       "  </thead>\n",
       "  <tbody>\n",
       "    <tr>\n",
       "      <th>0</th>\n",
       "      <td>=?iso-8859-1?q?guillaume_v=e9ronique?=\\r\\n\\t&lt;v...</td>\n",
       "      <td>1</td>\n",
       "      <td>acces decibel bonjour pouvez vous donner les a...</td>\n",
       "      <td>2</td>\n",
       "      <td>acce decibel bonjour pouvoir donner acces deci...</td>\n",
       "      <td>0</td>\n",
       "      <td>7</td>\n",
       "      <td>1</td>\n",
       "      <td>1</td>\n",
       "      <td>0</td>\n",
       "      <td>...</td>\n",
       "      <td>18</td>\n",
       "      <td>2</td>\n",
       "      <td>3</td>\n",
       "      <td>0</td>\n",
       "      <td>2</td>\n",
       "      <td>0</td>\n",
       "      <td>0</td>\n",
       "      <td>3</td>\n",
       "      <td>1</td>\n",
       "      <td>233</td>\n",
       "    </tr>\n",
       "    <tr>\n",
       "      <th>1</th>\n",
       "      <td>levisse xavier &lt;xavier.levisse@harmonie-mutuel...</td>\n",
       "      <td>1</td>\n",
       "      <td>actes indemnités hospitalières tu sais ce que ...</td>\n",
       "      <td>2</td>\n",
       "      <td>acte indemnite hospitalier savoir acte frais r...</td>\n",
       "      <td>0</td>\n",
       "      <td>3</td>\n",
       "      <td>3</td>\n",
       "      <td>0</td>\n",
       "      <td>2</td>\n",
       "      <td>...</td>\n",
       "      <td>12</td>\n",
       "      <td>2</td>\n",
       "      <td>5</td>\n",
       "      <td>0</td>\n",
       "      <td>2</td>\n",
       "      <td>1</td>\n",
       "      <td>0</td>\n",
       "      <td>6</td>\n",
       "      <td>0</td>\n",
       "      <td>177</td>\n",
       "    </tr>\n",
       "    <tr>\n",
       "      <th>2</th>\n",
       "      <td>courtais yohan &lt;yohan.courtais@harmonie-mutuel...</td>\n",
       "      <td>1</td>\n",
       "      <td>analyse des obsèques naissances appareils audi...</td>\n",
       "      <td>1</td>\n",
       "      <td>analyse obseque naissance appareil auditif bon...</td>\n",
       "      <td>0</td>\n",
       "      <td>6</td>\n",
       "      <td>3</td>\n",
       "      <td>0</td>\n",
       "      <td>2</td>\n",
       "      <td>...</td>\n",
       "      <td>23</td>\n",
       "      <td>1</td>\n",
       "      <td>8</td>\n",
       "      <td>0</td>\n",
       "      <td>4</td>\n",
       "      <td>3</td>\n",
       "      <td>0</td>\n",
       "      <td>8</td>\n",
       "      <td>0</td>\n",
       "      <td>274</td>\n",
       "    </tr>\n",
       "    <tr>\n",
       "      <th>3</th>\n",
       "      <td>levisse xavier &lt;xavier.levisse@harmonie-mutuel...</td>\n",
       "      <td>1</td>\n",
       "      <td>ano ihm bonjour j ai un multivalue filtres eta...</td>\n",
       "      <td>1</td>\n",
       "      <td>ano ihm bonjour multivalu filtre etablissement...</td>\n",
       "      <td>0</td>\n",
       "      <td>2</td>\n",
       "      <td>1</td>\n",
       "      <td>0</td>\n",
       "      <td>1</td>\n",
       "      <td>...</td>\n",
       "      <td>11</td>\n",
       "      <td>1</td>\n",
       "      <td>1</td>\n",
       "      <td>0</td>\n",
       "      <td>1</td>\n",
       "      <td>0</td>\n",
       "      <td>0</td>\n",
       "      <td>2</td>\n",
       "      <td>3</td>\n",
       "      <td>172</td>\n",
       "    </tr>\n",
       "    <tr>\n",
       "      <th>4</th>\n",
       "      <td>=?iso-8859-1?q?pernot_val=e9rie?= &lt;valerie.per...</td>\n",
       "      <td>1</td>\n",
       "      <td>ano alimentation réseau sur dcb bonjour je m i...</td>\n",
       "      <td>1</td>\n",
       "      <td>ano alimentation reseau dob bonjour metre inte...</td>\n",
       "      <td>0</td>\n",
       "      <td>38</td>\n",
       "      <td>6</td>\n",
       "      <td>6</td>\n",
       "      <td>2</td>\n",
       "      <td>...</td>\n",
       "      <td>56</td>\n",
       "      <td>3</td>\n",
       "      <td>14</td>\n",
       "      <td>1</td>\n",
       "      <td>10</td>\n",
       "      <td>1</td>\n",
       "      <td>0</td>\n",
       "      <td>20</td>\n",
       "      <td>0</td>\n",
       "      <td>659</td>\n",
       "    </tr>\n",
       "  </tbody>\n",
       "</table>\n",
       "<p>5 rows × 22 columns</p>\n",
       "</div>"
      ],
      "text/plain": [
       "                                                from  label  \\\n",
       "0  =?iso-8859-1?q?guillaume_v=e9ronique?=\\r\\n\\t<v...      1   \n",
       "1  levisse xavier <xavier.levisse@harmonie-mutuel...      1   \n",
       "2  courtais yohan <yohan.courtais@harmonie-mutuel...      1   \n",
       "3  levisse xavier <xavier.levisse@harmonie-mutuel...      1   \n",
       "4  =?iso-8859-1?q?pernot_val=e9rie?= <valerie.per...      1   \n",
       "\n",
       "                                                text  _questionmark_count_  \\\n",
       "0  acces decibel bonjour pouvez vous donner les a...                     2   \n",
       "1  actes indemnités hospitalières tu sais ce que ...                     2   \n",
       "2  analyse des obsèques naissances appareils audi...                     1   \n",
       "3  ano ihm bonjour j ai un multivalue filtres eta...                     1   \n",
       "4  ano alimentation réseau sur dcb bonjour je m i...                     1   \n",
       "\n",
       "                                            text_lem  _AJD_count_  \\\n",
       "0  acce decibel bonjour pouvoir donner acces deci...            0   \n",
       "1  acte indemnite hospitalier savoir acte frais r...            0   \n",
       "2  analyse obseque naissance appareil auditif bon...            0   \n",
       "3  ano ihm bonjour multivalu filtre etablissement...            0   \n",
       "4  ano alimentation reseau dob bonjour metre inte...            0   \n",
       "\n",
       "   _ADP_count_  _ADV_count_  _AUX_count_  _CCONJ_count_  ...  _NOUN_count_  \\\n",
       "0            7            1            1              0  ...            18   \n",
       "1            3            3            0              2  ...            12   \n",
       "2            6            3            0              2  ...            23   \n",
       "3            2            1            0              1  ...            11   \n",
       "4           38            6            6              2  ...            56   \n",
       "\n",
       "   _NUM_count_  _PRON_count_  _PROPN_count_  _PUNCT_count_  _SCONJ_count_  \\\n",
       "0            2             3              0              2              0   \n",
       "1            2             5              0              2              1   \n",
       "2            1             8              0              4              3   \n",
       "3            1             1              0              1              0   \n",
       "4            3            14              1             10              1   \n",
       "\n",
       "   _SYM_count_  _VERB_count_  _X_count_  unique_words_count  \n",
       "0            0             3          1                 233  \n",
       "1            0             6          0                 177  \n",
       "2            0             8          0                 274  \n",
       "3            0             2          3                 172  \n",
       "4            0            20          0                 659  \n",
       "\n",
       "[5 rows x 22 columns]"
      ]
     },
     "execution_count": 2,
     "metadata": {},
     "output_type": "execute_result"
    }
   ],
   "source": [
    "data = pd.read_json('data/mails_preprocessing.json')\n",
    "data.head()"
   ]
  },
  {
   "cell_type": "code",
   "execution_count": 3,
   "metadata": {},
   "outputs": [],
   "source": [
    "embedding = Embedding(input_column='text_lem', min_count=2, method = 'word2vec_sg', size = 500)\n",
    "embedding.train(data.astype({'text_lem':str}))\n",
    "# embedding = pd.read_pickle('data/mails_embedded_doc2vec_bigrams.pkl')"
   ]
  },
  {
   "cell_type": "code",
   "execution_count": 14,
   "metadata": {},
   "outputs": [],
   "source": [
    "embedding.save('models/MELUSINE_EMBEDDING')"
   ]
  },
  {
   "cell_type": "code",
   "execution_count": 4,
   "metadata": {},
   "outputs": [
    {
     "data": {
      "text/plain": [
       "Counter({1: 4759, 0: 590, 2: 3215})"
      ]
     },
     "execution_count": 4,
     "metadata": {},
     "output_type": "execute_result"
    }
   ],
   "source": [
    "features = [data.columns[3]] + list(data.columns[5:])\n",
    "Counter(data.label)"
   ]
  },
  {
   "cell_type": "code",
   "execution_count": 5,
   "metadata": {},
   "outputs": [],
   "source": [
    "# subsampling data\n",
    "np.random.seed(42)\n",
    "df1 = data[data.label==0].sample(590)\n",
    "df2 = data[data.label==1].sample(590)\n",
    "df_subsampled = pd.concat([df1,df2], ignore_index=True)"
   ]
  },
  {
   "cell_type": "code",
   "execution_count": 7,
   "metadata": {},
   "outputs": [],
   "source": [
    "# no subsampling\n",
    "df = data[data.label!=2]"
   ]
  },
  {
   "cell_type": "code",
   "execution_count": 11,
   "metadata": {},
   "outputs": [
    {
     "data": {
      "text/plain": [
       "Counter({1: 3794, 0: 485})"
      ]
     },
     "execution_count": 11,
     "metadata": {},
     "output_type": "execute_result"
    }
   ],
   "source": [
    "shuffler = ShuffleSplit(n_splits=1,test_size=0.2, random_state=42)\n",
    "train_indexes, test_indexes = list(shuffler.split(df.index))[0]\n",
    "df_train = df.iloc[train_indexes,:]\n",
    "df_test = df.iloc[test_indexes,:]\n",
    "Counter(df_train.label)"
   ]
  },
  {
   "cell_type": "markdown",
   "metadata": {},
   "source": [
    "# CNN"
   ]
  },
  {
   "cell_type": "code",
   "execution_count": 15,
   "metadata": {},
   "outputs": [],
   "source": [
    "np.random.seed(42)\n",
    "cnn_nn = NeuralModel(\n",
    "    architecture_function = cnn_model,\n",
    "    pretrained_embedding = embedding,\n",
    "    text_input_column = 'text_lem',\n",
    "    meta_input_list = features,\n",
    "    batch_size = 32,\n",
    "    embedding_dim = 500,\n",
    "    seq_size=518,\n",
    "    n_epochs=200\n",
    ")"
   ]
  },
  {
   "cell_type": "code",
   "execution_count": 16,
   "metadata": {},
   "outputs": [],
   "source": [
    "cnn_nn.fit(df_train, df_train.label, verbose = 0, workers = 6, use_multiprocessing = True)"
   ]
  },
  {
   "cell_type": "code",
   "execution_count": 17,
   "metadata": {},
   "outputs": [
    {
     "name": "stdout",
     "output_type": "stream",
     "text": [
      "              precision    recall  f1-score   support\n",
      "\n",
      "           0       0.93      0.94      0.94       105\n",
      "           1       0.99      0.99      0.99       965\n",
      "\n",
      "    accuracy                           0.99      1070\n",
      "   macro avg       0.96      0.97      0.97      1070\n",
      "weighted avg       0.99      0.99      0.99      1070\n",
      "\n"
     ]
    }
   ],
   "source": [
    "y_pred = cnn_nn.predict(df_test)\n",
    "print(classification_report(df_test.label, y_pred))"
   ]
  },
  {
   "cell_type": "code",
   "execution_count": 18,
   "metadata": {},
   "outputs": [
    {
     "data": {
      "text/plain": [
       "['models/CNN_518features_input_text_lem.pkl']"
      ]
     },
     "execution_count": 18,
     "metadata": {},
     "output_type": "execute_result"
    }
   ],
   "source": [
    "cnn_nn.save_nn_model('models/CNN_518features_input_text_lem')\n",
    "joblib.dump(cnn_nn, 'models/CNN_518features_input_text_lem.pkl', compress=True)"
   ]
  },
  {
   "cell_type": "markdown",
   "metadata": {},
   "source": [
    "# RNN"
   ]
  },
  {
   "cell_type": "code",
   "execution_count": 19,
   "metadata": {},
   "outputs": [],
   "source": [
    "np.random.seed(42)\n",
    "rnn_nn = NeuralModel(architecture_function=rnn_model,\n",
    "    pretrained_embedding=embedding,\n",
    "    text_input_column='text_lem',\n",
    "    meta_input_list = features,\n",
    "    batch_size = 32,\n",
    "    embedding_dim = 500,\n",
    "    seq_size=518,\n",
    "    n_epochs=200\n",
    ")"
   ]
  },
  {
   "cell_type": "code",
   "execution_count": 20,
   "metadata": {},
   "outputs": [],
   "source": [
    "rnn_nn.fit(df_train, df_train.label, verbose = 0, workers = 6, use_multiprocessing = True)"
   ]
  },
  {
   "cell_type": "code",
   "execution_count": 21,
   "metadata": {},
   "outputs": [
    {
     "name": "stdout",
     "output_type": "stream",
     "text": [
      "              precision    recall  f1-score   support\n",
      "\n",
      "           0       0.94      0.91      0.93       105\n",
      "           1       0.99      0.99      0.99       965\n",
      "\n",
      "    accuracy                           0.99      1070\n",
      "   macro avg       0.97      0.95      0.96      1070\n",
      "weighted avg       0.99      0.99      0.99      1070\n",
      "\n"
     ]
    }
   ],
   "source": [
    "y_pred = rnn_nn.predict(df_test)\n",
    "print(classification_report(df_test.label, y_pred))"
   ]
  },
  {
   "cell_type": "code",
   "execution_count": 22,
   "metadata": {},
   "outputs": [
    {
     "data": {
      "text/plain": [
       "['models/RNN_518features_input_text_lem.pkl']"
      ]
     },
     "execution_count": 22,
     "metadata": {},
     "output_type": "execute_result"
    }
   ],
   "source": [
    "rnn_nn.save_nn_model('models/RNN_518features_input_text_lem')\n",
    "joblib.dump(rnn_nn, 'models/RNN_518features_input_text_lem.pkl', compress=True)"
   ]
  },
  {
   "cell_type": "markdown",
   "metadata": {},
   "source": [
    "# Transformer"
   ]
  },
  {
   "cell_type": "code",
   "execution_count": 23,
   "metadata": {},
   "outputs": [],
   "source": [
    "np.random.seed(42)\n",
    "transf_nn = NeuralModel(architecture_function=transformers_model,\n",
    "    pretrained_embedding=embedding,\n",
    "    text_input_column='text_lem',\n",
    "    meta_input_list = features,\n",
    "    batch_size = 32,\n",
    "    embedding_dim = 500,\n",
    "    seq_size=518,\n",
    "    n_epochs=200\n",
    ")"
   ]
  },
  {
   "cell_type": "code",
   "execution_count": 24,
   "metadata": {},
   "outputs": [],
   "source": [
    "transf_nn.fit(df_train, df_train.label, verbose = 0, workers = 6, use_multiprocessing = True)"
   ]
  },
  {
   "cell_type": "code",
   "execution_count": 27,
   "metadata": {},
   "outputs": [
    {
     "name": "stdout",
     "output_type": "stream",
     "text": [
      "              precision    recall  f1-score   support\n",
      "\n",
      "           0       0.91      0.82      0.86       105\n",
      "           1       0.98      0.99      0.99       965\n",
      "\n",
      "    accuracy                           0.97      1070\n",
      "   macro avg       0.95      0.91      0.93      1070\n",
      "weighted avg       0.97      0.97      0.97      1070\n",
      "\n"
     ]
    }
   ],
   "source": [
    "y_pred = transf_nn.predict(df_test)\n",
    "print(classification_report(df_test.label, y_pred))"
   ]
  },
  {
   "cell_type": "code",
   "execution_count": 28,
   "metadata": {},
   "outputs": [
    {
     "data": {
      "text/plain": [
       "['models/TRANSF_518features_input_text_lem.pkl']"
      ]
     },
     "execution_count": 28,
     "metadata": {},
     "output_type": "execute_result"
    }
   ],
   "source": [
    "transf_nn.save_nn_model('models/TRANSF_518features_input_text_lem')\n",
    "joblib.dump(transf_nn, 'models/TRANSF_518features_input_text_lem.pkl', compress=True)"
   ]
  }
 ],
 "metadata": {
  "interpreter": {
   "hash": "444ad55116b32659c86cf21366f06a0b6b15c21184a40d72a1d77ccdcbfe1879"
  },
  "kernelspec": {
   "display_name": "Python 3.8.8 ('base')",
   "language": "python",
   "name": "python3"
  },
  "language_info": {
   "codemirror_mode": {
    "name": "ipython",
    "version": 3
   },
   "file_extension": ".py",
   "mimetype": "text/x-python",
   "name": "python",
   "nbconvert_exporter": "python",
   "pygments_lexer": "ipython3",
   "version": "3.8.8"
  },
  "orig_nbformat": 4
 },
 "nbformat": 4,
 "nbformat_minor": 2
}
